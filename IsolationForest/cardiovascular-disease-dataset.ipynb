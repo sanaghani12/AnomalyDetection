{
 "cells": [
  {
   "cell_type": "code",
   "execution_count": 1,
   "id": "7d20b51f",
   "metadata": {
    "_cell_guid": "b1076dfc-b9ad-4769-8c92-a6c4dae69d19",
    "_uuid": "8f2839f25d086af736a60e9eeb907d3b93b6e0e5",
    "execution": {
     "iopub.execute_input": "2023-07-09T17:07:29.179656Z",
     "iopub.status.busy": "2023-07-09T17:07:29.178732Z",
     "iopub.status.idle": "2023-07-09T17:07:31.397325Z",
     "shell.execute_reply": "2023-07-09T17:07:31.396111Z"
    },
    "papermill": {
     "duration": 2.228581,
     "end_time": "2023-07-09T17:07:31.400328",
     "exception": false,
     "start_time": "2023-07-09T17:07:29.171747",
     "status": "completed"
    },
    "tags": []
   },
   "outputs": [],
   "source": [
    "import pandas as pd\n",
    "import seaborn as sns\n",
    "from sklearn.ensemble import IsolationForest\n",
    "from sklearn.metrics import accuracy_score, precision_score, recall_score, f1_score, confusion_matrix\n",
    "from sklearn.metrics import classification_report\n",
    "from sklearn.preprocessing import LabelEncoder\n",
    "from sklearn.model_selection import train_test_split\n",
    "import numpy as np\n",
    "import datetime as dt\n",
    "from datetime import datetime\n",
    "from sklearn.preprocessing import StandardScaler\n",
    "import time   "
   ]
  },
  {
   "cell_type": "code",
   "execution_count": 2,
   "id": "8f3cc36b",
   "metadata": {
    "execution": {
     "iopub.execute_input": "2023-07-09T17:07:31.413238Z",
     "iopub.status.busy": "2023-07-09T17:07:31.412786Z",
     "iopub.status.idle": "2023-07-09T17:07:31.592947Z",
     "shell.execute_reply": "2023-07-09T17:07:31.591995Z"
    },
    "papermill": {
     "duration": 0.189782,
     "end_time": "2023-07-09T17:07:31.595433",
     "exception": false,
     "start_time": "2023-07-09T17:07:31.405651",
     "status": "completed"
    },
    "tags": []
   },
   "outputs": [],
   "source": [
    "\n",
    "df = pd.read_csv('/kaggle/input/cardiovascular-disease-dataset/cardio_train.csv', delimiter=';')\n"
   ]
  },
  {
   "cell_type": "code",
   "execution_count": 3,
   "id": "338b8cf8",
   "metadata": {
    "execution": {
     "iopub.execute_input": "2023-07-09T17:07:31.606904Z",
     "iopub.status.busy": "2023-07-09T17:07:31.606433Z",
     "iopub.status.idle": "2023-07-09T17:07:31.649223Z",
     "shell.execute_reply": "2023-07-09T17:07:31.647773Z"
    },
    "papermill": {
     "duration": 0.052185,
     "end_time": "2023-07-09T17:07:31.652436",
     "exception": false,
     "start_time": "2023-07-09T17:07:31.600251",
     "status": "completed"
    },
    "tags": []
   },
   "outputs": [
    {
     "data": {
      "text/html": [
       "<div>\n",
       "<style scoped>\n",
       "    .dataframe tbody tr th:only-of-type {\n",
       "        vertical-align: middle;\n",
       "    }\n",
       "\n",
       "    .dataframe tbody tr th {\n",
       "        vertical-align: top;\n",
       "    }\n",
       "\n",
       "    .dataframe thead th {\n",
       "        text-align: right;\n",
       "    }\n",
       "</style>\n",
       "<table border=\"1\" class=\"dataframe\">\n",
       "  <thead>\n",
       "    <tr style=\"text-align: right;\">\n",
       "      <th></th>\n",
       "      <th>id</th>\n",
       "      <th>age</th>\n",
       "      <th>gender</th>\n",
       "      <th>height</th>\n",
       "      <th>weight</th>\n",
       "      <th>ap_hi</th>\n",
       "      <th>ap_lo</th>\n",
       "      <th>cholesterol</th>\n",
       "      <th>gluc</th>\n",
       "      <th>smoke</th>\n",
       "      <th>alco</th>\n",
       "      <th>active</th>\n",
       "      <th>cardio</th>\n",
       "    </tr>\n",
       "  </thead>\n",
       "  <tbody>\n",
       "    <tr>\n",
       "      <th>0</th>\n",
       "      <td>0</td>\n",
       "      <td>18393</td>\n",
       "      <td>2</td>\n",
       "      <td>168</td>\n",
       "      <td>62.0</td>\n",
       "      <td>110</td>\n",
       "      <td>80</td>\n",
       "      <td>1</td>\n",
       "      <td>1</td>\n",
       "      <td>0</td>\n",
       "      <td>0</td>\n",
       "      <td>1</td>\n",
       "      <td>0</td>\n",
       "    </tr>\n",
       "    <tr>\n",
       "      <th>1</th>\n",
       "      <td>1</td>\n",
       "      <td>20228</td>\n",
       "      <td>1</td>\n",
       "      <td>156</td>\n",
       "      <td>85.0</td>\n",
       "      <td>140</td>\n",
       "      <td>90</td>\n",
       "      <td>3</td>\n",
       "      <td>1</td>\n",
       "      <td>0</td>\n",
       "      <td>0</td>\n",
       "      <td>1</td>\n",
       "      <td>1</td>\n",
       "    </tr>\n",
       "    <tr>\n",
       "      <th>2</th>\n",
       "      <td>2</td>\n",
       "      <td>18857</td>\n",
       "      <td>1</td>\n",
       "      <td>165</td>\n",
       "      <td>64.0</td>\n",
       "      <td>130</td>\n",
       "      <td>70</td>\n",
       "      <td>3</td>\n",
       "      <td>1</td>\n",
       "      <td>0</td>\n",
       "      <td>0</td>\n",
       "      <td>0</td>\n",
       "      <td>1</td>\n",
       "    </tr>\n",
       "    <tr>\n",
       "      <th>3</th>\n",
       "      <td>3</td>\n",
       "      <td>17623</td>\n",
       "      <td>2</td>\n",
       "      <td>169</td>\n",
       "      <td>82.0</td>\n",
       "      <td>150</td>\n",
       "      <td>100</td>\n",
       "      <td>1</td>\n",
       "      <td>1</td>\n",
       "      <td>0</td>\n",
       "      <td>0</td>\n",
       "      <td>1</td>\n",
       "      <td>1</td>\n",
       "    </tr>\n",
       "    <tr>\n",
       "      <th>4</th>\n",
       "      <td>4</td>\n",
       "      <td>17474</td>\n",
       "      <td>1</td>\n",
       "      <td>156</td>\n",
       "      <td>56.0</td>\n",
       "      <td>100</td>\n",
       "      <td>60</td>\n",
       "      <td>1</td>\n",
       "      <td>1</td>\n",
       "      <td>0</td>\n",
       "      <td>0</td>\n",
       "      <td>0</td>\n",
       "      <td>0</td>\n",
       "    </tr>\n",
       "  </tbody>\n",
       "</table>\n",
       "</div>"
      ],
      "text/plain": [
       "   id    age  gender  height  weight  ap_hi  ap_lo  cholesterol  gluc  smoke  \\\n",
       "0   0  18393       2     168    62.0    110     80            1     1      0   \n",
       "1   1  20228       1     156    85.0    140     90            3     1      0   \n",
       "2   2  18857       1     165    64.0    130     70            3     1      0   \n",
       "3   3  17623       2     169    82.0    150    100            1     1      0   \n",
       "4   4  17474       1     156    56.0    100     60            1     1      0   \n",
       "\n",
       "   alco  active  cardio  \n",
       "0     0       1       0  \n",
       "1     0       1       1  \n",
       "2     0       0       1  \n",
       "3     0       1       1  \n",
       "4     0       0       0  "
      ]
     },
     "execution_count": 3,
     "metadata": {},
     "output_type": "execute_result"
    }
   ],
   "source": [
    "df.head()"
   ]
  },
  {
   "cell_type": "code",
   "execution_count": 4,
   "id": "99263f15",
   "metadata": {
    "execution": {
     "iopub.execute_input": "2023-07-09T17:07:31.664648Z",
     "iopub.status.busy": "2023-07-09T17:07:31.664039Z",
     "iopub.status.idle": "2023-07-09T17:07:31.695382Z",
     "shell.execute_reply": "2023-07-09T17:07:31.694317Z"
    },
    "papermill": {
     "duration": 0.040303,
     "end_time": "2023-07-09T17:07:31.698026",
     "exception": false,
     "start_time": "2023-07-09T17:07:31.657723",
     "status": "completed"
    },
    "tags": []
   },
   "outputs": [],
   "source": [
    "# Converting the age in days to years\n",
    "df['age'] = df['age']/365\n",
    "df['age'] = df['age'].round(2)\n",
    "# Converting the height in cm to ft\n",
    "df['height'] = df['height']*0.032808399\n",
    "df['height'] = df['height'].round(2)\n",
    "df = df.rename(columns={'age': 'age_years', 'height': 'height_ft'})\n",
    "\n",
    "df = df.drop(\"id\", axis=1)"
   ]
  },
  {
   "cell_type": "code",
   "execution_count": 5,
   "id": "223bb049",
   "metadata": {
    "execution": {
     "iopub.execute_input": "2023-07-09T17:07:31.710655Z",
     "iopub.status.busy": "2023-07-09T17:07:31.710255Z",
     "iopub.status.idle": "2023-07-09T17:07:31.731976Z",
     "shell.execute_reply": "2023-07-09T17:07:31.730743Z"
    },
    "papermill": {
     "duration": 0.031592,
     "end_time": "2023-07-09T17:07:31.734733",
     "exception": false,
     "start_time": "2023-07-09T17:07:31.703141",
     "status": "completed"
    },
    "tags": []
   },
   "outputs": [],
   "source": [
    "df['cardio'].value_counts(normalize=True)\n",
    "train_data, test_data = train_test_split(df, test_size=0.3, random_state=42)\n"
   ]
  },
  {
   "cell_type": "code",
   "execution_count": 6,
   "id": "bef6f6bf",
   "metadata": {
    "execution": {
     "iopub.execute_input": "2023-07-09T17:07:31.746762Z",
     "iopub.status.busy": "2023-07-09T17:07:31.746367Z",
     "iopub.status.idle": "2023-07-09T17:07:31.750748Z",
     "shell.execute_reply": "2023-07-09T17:07:31.749787Z"
    },
    "papermill": {
     "duration": 0.012988,
     "end_time": "2023-07-09T17:07:31.752971",
     "exception": false,
     "start_time": "2023-07-09T17:07:31.739983",
     "status": "completed"
    },
    "tags": []
   },
   "outputs": [],
   "source": [
    "# Separate instances belonging to class 0 and class 1 in the train dataset\n"
   ]
  },
  {
   "cell_type": "code",
   "execution_count": 7,
   "id": "39e992d6",
   "metadata": {
    "execution": {
     "iopub.execute_input": "2023-07-09T17:07:31.765504Z",
     "iopub.status.busy": "2023-07-09T17:07:31.764810Z",
     "iopub.status.idle": "2023-07-09T17:07:31.774037Z",
     "shell.execute_reply": "2023-07-09T17:07:31.773132Z"
    },
    "papermill": {
     "duration": 0.018198,
     "end_time": "2023-07-09T17:07:31.776387",
     "exception": false,
     "start_time": "2023-07-09T17:07:31.758189",
     "status": "completed"
    },
    "tags": []
   },
   "outputs": [
    {
     "data": {
      "text/plain": [
       "0    0.501224\n",
       "1    0.498776\n",
       "Name: cardio, dtype: float64"
      ]
     },
     "execution_count": 7,
     "metadata": {},
     "output_type": "execute_result"
    }
   ],
   "source": [
    "train_data['cardio'].value_counts(normalize=True)\n"
   ]
  },
  {
   "cell_type": "code",
   "execution_count": 8,
   "id": "43fb3e60",
   "metadata": {
    "execution": {
     "iopub.execute_input": "2023-07-09T17:07:31.791087Z",
     "iopub.status.busy": "2023-07-09T17:07:31.790347Z",
     "iopub.status.idle": "2023-07-09T17:07:31.801797Z",
     "shell.execute_reply": "2023-07-09T17:07:31.800608Z"
    },
    "papermill": {
     "duration": 0.022931,
     "end_time": "2023-07-09T17:07:31.804628",
     "exception": false,
     "start_time": "2023-07-09T17:07:31.781697",
     "status": "completed"
    },
    "tags": []
   },
   "outputs": [],
   "source": [
    "train_data = train_data.reset_index(drop=True)\n",
    "\n",
    "X_train_data = train_data.drop(\"cardio\", axis=True)\n",
    "\n",
    "y_train_data = train_data[\"cardio\"]"
   ]
  },
  {
   "cell_type": "code",
   "execution_count": 9,
   "id": "ce8e44b8",
   "metadata": {
    "execution": {
     "iopub.execute_input": "2023-07-09T17:07:31.816935Z",
     "iopub.status.busy": "2023-07-09T17:07:31.816497Z",
     "iopub.status.idle": "2023-07-09T17:07:31.833621Z",
     "shell.execute_reply": "2023-07-09T17:07:31.832263Z"
    },
    "papermill": {
     "duration": 0.026399,
     "end_time": "2023-07-09T17:07:31.836391",
     "exception": false,
     "start_time": "2023-07-09T17:07:31.809992",
     "status": "completed"
    },
    "tags": []
   },
   "outputs": [
    {
     "data": {
      "text/html": [
       "<div>\n",
       "<style scoped>\n",
       "    .dataframe tbody tr th:only-of-type {\n",
       "        vertical-align: middle;\n",
       "    }\n",
       "\n",
       "    .dataframe tbody tr th {\n",
       "        vertical-align: top;\n",
       "    }\n",
       "\n",
       "    .dataframe thead th {\n",
       "        text-align: right;\n",
       "    }\n",
       "</style>\n",
       "<table border=\"1\" class=\"dataframe\">\n",
       "  <thead>\n",
       "    <tr style=\"text-align: right;\">\n",
       "      <th></th>\n",
       "      <th>age_years</th>\n",
       "      <th>gender</th>\n",
       "      <th>height_ft</th>\n",
       "      <th>weight</th>\n",
       "      <th>ap_hi</th>\n",
       "      <th>ap_lo</th>\n",
       "      <th>cholesterol</th>\n",
       "      <th>gluc</th>\n",
       "      <th>smoke</th>\n",
       "      <th>alco</th>\n",
       "      <th>active</th>\n",
       "    </tr>\n",
       "  </thead>\n",
       "  <tbody>\n",
       "    <tr>\n",
       "      <th>0</th>\n",
       "      <td>55.94</td>\n",
       "      <td>1</td>\n",
       "      <td>5.25</td>\n",
       "      <td>64.0</td>\n",
       "      <td>120</td>\n",
       "      <td>90</td>\n",
       "      <td>3</td>\n",
       "      <td>1</td>\n",
       "      <td>0</td>\n",
       "      <td>0</td>\n",
       "      <td>1</td>\n",
       "    </tr>\n",
       "    <tr>\n",
       "      <th>1</th>\n",
       "      <td>62.16</td>\n",
       "      <td>2</td>\n",
       "      <td>5.48</td>\n",
       "      <td>65.0</td>\n",
       "      <td>120</td>\n",
       "      <td>80</td>\n",
       "      <td>3</td>\n",
       "      <td>3</td>\n",
       "      <td>0</td>\n",
       "      <td>0</td>\n",
       "      <td>0</td>\n",
       "    </tr>\n",
       "    <tr>\n",
       "      <th>2</th>\n",
       "      <td>62.42</td>\n",
       "      <td>1</td>\n",
       "      <td>5.25</td>\n",
       "      <td>66.0</td>\n",
       "      <td>120</td>\n",
       "      <td>90</td>\n",
       "      <td>1</td>\n",
       "      <td>1</td>\n",
       "      <td>0</td>\n",
       "      <td>0</td>\n",
       "      <td>1</td>\n",
       "    </tr>\n",
       "    <tr>\n",
       "      <th>3</th>\n",
       "      <td>62.05</td>\n",
       "      <td>1</td>\n",
       "      <td>5.35</td>\n",
       "      <td>55.0</td>\n",
       "      <td>125</td>\n",
       "      <td>90</td>\n",
       "      <td>3</td>\n",
       "      <td>1</td>\n",
       "      <td>0</td>\n",
       "      <td>0</td>\n",
       "      <td>1</td>\n",
       "    </tr>\n",
       "    <tr>\n",
       "      <th>4</th>\n",
       "      <td>59.48</td>\n",
       "      <td>1</td>\n",
       "      <td>5.18</td>\n",
       "      <td>85.0</td>\n",
       "      <td>150</td>\n",
       "      <td>80</td>\n",
       "      <td>3</td>\n",
       "      <td>1</td>\n",
       "      <td>0</td>\n",
       "      <td>0</td>\n",
       "      <td>1</td>\n",
       "    </tr>\n",
       "  </tbody>\n",
       "</table>\n",
       "</div>"
      ],
      "text/plain": [
       "   age_years  gender  height_ft  weight  ap_hi  ap_lo  cholesterol  gluc  \\\n",
       "0      55.94       1       5.25    64.0    120     90            3     1   \n",
       "1      62.16       2       5.48    65.0    120     80            3     3   \n",
       "2      62.42       1       5.25    66.0    120     90            1     1   \n",
       "3      62.05       1       5.35    55.0    125     90            3     1   \n",
       "4      59.48       1       5.18    85.0    150     80            3     1   \n",
       "\n",
       "   smoke  alco  active  \n",
       "0      0     0       1  \n",
       "1      0     0       0  \n",
       "2      0     0       1  \n",
       "3      0     0       1  \n",
       "4      0     0       1  "
      ]
     },
     "execution_count": 9,
     "metadata": {},
     "output_type": "execute_result"
    }
   ],
   "source": [
    "X_train_data.head()\n"
   ]
  },
  {
   "cell_type": "code",
   "execution_count": 10,
   "id": "e3e890bb",
   "metadata": {
    "execution": {
     "iopub.execute_input": "2023-07-09T17:07:31.849390Z",
     "iopub.status.busy": "2023-07-09T17:07:31.848974Z",
     "iopub.status.idle": "2023-07-09T17:07:31.857518Z",
     "shell.execute_reply": "2023-07-09T17:07:31.856424Z"
    },
    "papermill": {
     "duration": 0.018257,
     "end_time": "2023-07-09T17:07:31.860295",
     "exception": false,
     "start_time": "2023-07-09T17:07:31.842038",
     "status": "completed"
    },
    "tags": []
   },
   "outputs": [],
   "source": [
    "test_data = test_data.reset_index(drop=True)\n",
    "\n",
    "X_test_data = test_data.drop(\"cardio\", axis=True)\n",
    "\n",
    "y_test_data = test_data[\"cardio\"]"
   ]
  },
  {
   "cell_type": "code",
   "execution_count": 11,
   "id": "ef7b7d8d",
   "metadata": {
    "execution": {
     "iopub.execute_input": "2023-07-09T17:07:31.873837Z",
     "iopub.status.busy": "2023-07-09T17:07:31.873449Z",
     "iopub.status.idle": "2023-07-09T17:07:31.890220Z",
     "shell.execute_reply": "2023-07-09T17:07:31.888683Z"
    },
    "papermill": {
     "duration": 0.026476,
     "end_time": "2023-07-09T17:07:31.892511",
     "exception": false,
     "start_time": "2023-07-09T17:07:31.866035",
     "status": "completed"
    },
    "tags": []
   },
   "outputs": [
    {
     "data": {
      "text/html": [
       "<div>\n",
       "<style scoped>\n",
       "    .dataframe tbody tr th:only-of-type {\n",
       "        vertical-align: middle;\n",
       "    }\n",
       "\n",
       "    .dataframe tbody tr th {\n",
       "        vertical-align: top;\n",
       "    }\n",
       "\n",
       "    .dataframe thead th {\n",
       "        text-align: right;\n",
       "    }\n",
       "</style>\n",
       "<table border=\"1\" class=\"dataframe\">\n",
       "  <thead>\n",
       "    <tr style=\"text-align: right;\">\n",
       "      <th></th>\n",
       "      <th>age_years</th>\n",
       "      <th>gender</th>\n",
       "      <th>height_ft</th>\n",
       "      <th>weight</th>\n",
       "      <th>ap_hi</th>\n",
       "      <th>ap_lo</th>\n",
       "      <th>cholesterol</th>\n",
       "      <th>gluc</th>\n",
       "      <th>smoke</th>\n",
       "      <th>alco</th>\n",
       "      <th>active</th>\n",
       "    </tr>\n",
       "  </thead>\n",
       "  <tbody>\n",
       "    <tr>\n",
       "      <th>0</th>\n",
       "      <td>59.64</td>\n",
       "      <td>1</td>\n",
       "      <td>5.12</td>\n",
       "      <td>64.0</td>\n",
       "      <td>140</td>\n",
       "      <td>80</td>\n",
       "      <td>2</td>\n",
       "      <td>1</td>\n",
       "      <td>0</td>\n",
       "      <td>0</td>\n",
       "      <td>1</td>\n",
       "    </tr>\n",
       "    <tr>\n",
       "      <th>1</th>\n",
       "      <td>59.93</td>\n",
       "      <td>1</td>\n",
       "      <td>5.58</td>\n",
       "      <td>85.0</td>\n",
       "      <td>160</td>\n",
       "      <td>90</td>\n",
       "      <td>1</td>\n",
       "      <td>1</td>\n",
       "      <td>0</td>\n",
       "      <td>0</td>\n",
       "      <td>1</td>\n",
       "    </tr>\n",
       "    <tr>\n",
       "      <th>2</th>\n",
       "      <td>63.75</td>\n",
       "      <td>1</td>\n",
       "      <td>4.95</td>\n",
       "      <td>90.0</td>\n",
       "      <td>130</td>\n",
       "      <td>80</td>\n",
       "      <td>1</td>\n",
       "      <td>1</td>\n",
       "      <td>0</td>\n",
       "      <td>0</td>\n",
       "      <td>1</td>\n",
       "    </tr>\n",
       "    <tr>\n",
       "      <th>3</th>\n",
       "      <td>54.08</td>\n",
       "      <td>1</td>\n",
       "      <td>5.22</td>\n",
       "      <td>97.0</td>\n",
       "      <td>120</td>\n",
       "      <td>80</td>\n",
       "      <td>1</td>\n",
       "      <td>1</td>\n",
       "      <td>0</td>\n",
       "      <td>0</td>\n",
       "      <td>1</td>\n",
       "    </tr>\n",
       "    <tr>\n",
       "      <th>4</th>\n",
       "      <td>50.40</td>\n",
       "      <td>1</td>\n",
       "      <td>5.38</td>\n",
       "      <td>68.0</td>\n",
       "      <td>120</td>\n",
       "      <td>80</td>\n",
       "      <td>1</td>\n",
       "      <td>1</td>\n",
       "      <td>0</td>\n",
       "      <td>0</td>\n",
       "      <td>1</td>\n",
       "    </tr>\n",
       "  </tbody>\n",
       "</table>\n",
       "</div>"
      ],
      "text/plain": [
       "   age_years  gender  height_ft  weight  ap_hi  ap_lo  cholesterol  gluc  \\\n",
       "0      59.64       1       5.12    64.0    140     80            2     1   \n",
       "1      59.93       1       5.58    85.0    160     90            1     1   \n",
       "2      63.75       1       4.95    90.0    130     80            1     1   \n",
       "3      54.08       1       5.22    97.0    120     80            1     1   \n",
       "4      50.40       1       5.38    68.0    120     80            1     1   \n",
       "\n",
       "   smoke  alco  active  \n",
       "0      0     0       1  \n",
       "1      0     0       1  \n",
       "2      0     0       1  \n",
       "3      0     0       1  \n",
       "4      0     0       1  "
      ]
     },
     "execution_count": 11,
     "metadata": {},
     "output_type": "execute_result"
    }
   ],
   "source": [
    "X_test_data.head()\n"
   ]
  },
  {
   "cell_type": "code",
   "execution_count": 12,
   "id": "0886a809",
   "metadata": {
    "execution": {
     "iopub.execute_input": "2023-07-09T17:07:31.906124Z",
     "iopub.status.busy": "2023-07-09T17:07:31.905686Z",
     "iopub.status.idle": "2023-07-09T17:07:34.339523Z",
     "shell.execute_reply": "2023-07-09T17:07:34.338109Z"
    },
    "papermill": {
     "duration": 2.443973,
     "end_time": "2023-07-09T17:07:34.342270",
     "exception": false,
     "start_time": "2023-07-09T17:07:31.898297",
     "status": "completed"
    },
    "tags": []
   },
   "outputs": [
    {
     "name": "stderr",
     "output_type": "stream",
     "text": [
      "/opt/conda/lib/python3.10/site-packages/sklearn/base.py:439: UserWarning: X does not have valid feature names, but IsolationForest was fitted with feature names\n",
      "  warnings.warn(\n"
     ]
    },
    {
     "name": "stdout",
     "output_type": "stream",
     "text": [
      "Execution time:  1.739565134048462 secs\n",
      "              precision    recall  f1-score   support\n",
      "\n",
      "           0       0.55      0.77      0.64     10461\n",
      "           1       0.62      0.36      0.46     10539\n",
      "\n",
      "    accuracy                           0.57     21000\n",
      "   macro avg       0.58      0.57      0.55     21000\n",
      "weighted avg       0.58      0.57      0.55     21000\n",
      "\n"
     ]
    }
   ],
   "source": [
    "model_IF = IsolationForest(contamination=float(0.3),random_state=42)\n",
    "start_time = time.time()\n",
    "# Create and fit the Isolation Forest model\n",
    "model_IF.fit(X_train_data)\n",
    "\n",
    "end_time = time.time()\n",
    "print(\"Execution time: \", end_time - start_time,\"secs\")\n",
    "\n",
    "# Generate outlier scores for instances\n",
    "outlier_scores = model_IF.decision_function(X_test_data)\n",
    "\n",
    "# Define a threshold to classify instances as anomalies or normal data\n",
    "threshold = 0.0\n",
    "\n",
    "# Convert outlier scores to binary labels based on the threshold\n",
    "predictions = [1 if score < threshold else 0 for score in outlier_scores]\n",
    "\n",
    "# Calculate precision, recall, and F1-score\n",
    "print(classification_report(y_test_data, predictions))"
   ]
  }
 ],
 "metadata": {
  "kernelspec": {
   "display_name": "Python 3",
   "language": "python",
   "name": "python3"
  },
  "language_info": {
   "codemirror_mode": {
    "name": "ipython",
    "version": 3
   },
   "file_extension": ".py",
   "mimetype": "text/x-python",
   "name": "python",
   "nbconvert_exporter": "python",
   "pygments_lexer": "ipython3",
   "version": "3.10.10"
  },
  "papermill": {
   "default_parameters": {},
   "duration": 19.629196,
   "end_time": "2023-07-09T17:07:35.371395",
   "environment_variables": {},
   "exception": null,
   "input_path": "__notebook__.ipynb",
   "output_path": "__notebook__.ipynb",
   "parameters": {},
   "start_time": "2023-07-09T17:07:15.742199",
   "version": "2.4.0"
  }
 },
 "nbformat": 4,
 "nbformat_minor": 5
}
