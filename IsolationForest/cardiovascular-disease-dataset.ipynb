{
 "cells": [
  {
   "cell_type": "code",
   "execution_count": 1,
   "id": "5b0b85de",
   "metadata": {
    "_cell_guid": "b1076dfc-b9ad-4769-8c92-a6c4dae69d19",
    "_uuid": "8f2839f25d086af736a60e9eeb907d3b93b6e0e5",
    "execution": {
     "iopub.execute_input": "2023-07-08T23:09:41.677496Z",
     "iopub.status.busy": "2023-07-08T23:09:41.677110Z",
     "iopub.status.idle": "2023-07-08T23:09:43.884281Z",
     "shell.execute_reply": "2023-07-08T23:09:43.883072Z"
    },
    "papermill": {
     "duration": 2.217287,
     "end_time": "2023-07-08T23:09:43.887178",
     "exception": false,
     "start_time": "2023-07-08T23:09:41.669891",
     "status": "completed"
    },
    "tags": []
   },
   "outputs": [],
   "source": [
    "import pandas as pd\n",
    "import seaborn as sns\n",
    "from sklearn.ensemble import IsolationForest\n",
    "from sklearn.metrics import accuracy_score, precision_score, recall_score, f1_score, confusion_matrix\n",
    "from sklearn.metrics import classification_report\n",
    "from sklearn.preprocessing import LabelEncoder\n",
    "from sklearn.model_selection import train_test_split\n",
    "import numpy as np\n",
    "import datetime as dt\n",
    "from datetime import datetime\n",
    "from sklearn.preprocessing import StandardScaler"
   ]
  },
  {
   "cell_type": "code",
   "execution_count": 2,
   "id": "91ef7c82",
   "metadata": {
    "execution": {
     "iopub.execute_input": "2023-07-08T23:09:43.898807Z",
     "iopub.status.busy": "2023-07-08T23:09:43.898378Z",
     "iopub.status.idle": "2023-07-08T23:09:44.074362Z",
     "shell.execute_reply": "2023-07-08T23:09:44.073071Z"
    },
    "papermill": {
     "duration": 0.184898,
     "end_time": "2023-07-08T23:09:44.077126",
     "exception": false,
     "start_time": "2023-07-08T23:09:43.892228",
     "status": "completed"
    },
    "tags": []
   },
   "outputs": [],
   "source": [
    "\n",
    "df = pd.read_csv('/kaggle/input/cardiovascular-disease-dataset/cardio_train.csv', delimiter=';')\n"
   ]
  },
  {
   "cell_type": "code",
   "execution_count": 3,
   "id": "c99e91b3",
   "metadata": {
    "execution": {
     "iopub.execute_input": "2023-07-08T23:09:44.088791Z",
     "iopub.status.busy": "2023-07-08T23:09:44.088362Z",
     "iopub.status.idle": "2023-07-08T23:09:44.126876Z",
     "shell.execute_reply": "2023-07-08T23:09:44.125575Z"
    },
    "papermill": {
     "duration": 0.047188,
     "end_time": "2023-07-08T23:09:44.129365",
     "exception": false,
     "start_time": "2023-07-08T23:09:44.082177",
     "status": "completed"
    },
    "tags": []
   },
   "outputs": [
    {
     "data": {
      "text/html": [
       "<div>\n",
       "<style scoped>\n",
       "    .dataframe tbody tr th:only-of-type {\n",
       "        vertical-align: middle;\n",
       "    }\n",
       "\n",
       "    .dataframe tbody tr th {\n",
       "        vertical-align: top;\n",
       "    }\n",
       "\n",
       "    .dataframe thead th {\n",
       "        text-align: right;\n",
       "    }\n",
       "</style>\n",
       "<table border=\"1\" class=\"dataframe\">\n",
       "  <thead>\n",
       "    <tr style=\"text-align: right;\">\n",
       "      <th></th>\n",
       "      <th>id</th>\n",
       "      <th>age</th>\n",
       "      <th>gender</th>\n",
       "      <th>height</th>\n",
       "      <th>weight</th>\n",
       "      <th>ap_hi</th>\n",
       "      <th>ap_lo</th>\n",
       "      <th>cholesterol</th>\n",
       "      <th>gluc</th>\n",
       "      <th>smoke</th>\n",
       "      <th>alco</th>\n",
       "      <th>active</th>\n",
       "      <th>cardio</th>\n",
       "    </tr>\n",
       "  </thead>\n",
       "  <tbody>\n",
       "    <tr>\n",
       "      <th>0</th>\n",
       "      <td>0</td>\n",
       "      <td>18393</td>\n",
       "      <td>2</td>\n",
       "      <td>168</td>\n",
       "      <td>62.0</td>\n",
       "      <td>110</td>\n",
       "      <td>80</td>\n",
       "      <td>1</td>\n",
       "      <td>1</td>\n",
       "      <td>0</td>\n",
       "      <td>0</td>\n",
       "      <td>1</td>\n",
       "      <td>0</td>\n",
       "    </tr>\n",
       "    <tr>\n",
       "      <th>1</th>\n",
       "      <td>1</td>\n",
       "      <td>20228</td>\n",
       "      <td>1</td>\n",
       "      <td>156</td>\n",
       "      <td>85.0</td>\n",
       "      <td>140</td>\n",
       "      <td>90</td>\n",
       "      <td>3</td>\n",
       "      <td>1</td>\n",
       "      <td>0</td>\n",
       "      <td>0</td>\n",
       "      <td>1</td>\n",
       "      <td>1</td>\n",
       "    </tr>\n",
       "    <tr>\n",
       "      <th>2</th>\n",
       "      <td>2</td>\n",
       "      <td>18857</td>\n",
       "      <td>1</td>\n",
       "      <td>165</td>\n",
       "      <td>64.0</td>\n",
       "      <td>130</td>\n",
       "      <td>70</td>\n",
       "      <td>3</td>\n",
       "      <td>1</td>\n",
       "      <td>0</td>\n",
       "      <td>0</td>\n",
       "      <td>0</td>\n",
       "      <td>1</td>\n",
       "    </tr>\n",
       "    <tr>\n",
       "      <th>3</th>\n",
       "      <td>3</td>\n",
       "      <td>17623</td>\n",
       "      <td>2</td>\n",
       "      <td>169</td>\n",
       "      <td>82.0</td>\n",
       "      <td>150</td>\n",
       "      <td>100</td>\n",
       "      <td>1</td>\n",
       "      <td>1</td>\n",
       "      <td>0</td>\n",
       "      <td>0</td>\n",
       "      <td>1</td>\n",
       "      <td>1</td>\n",
       "    </tr>\n",
       "    <tr>\n",
       "      <th>4</th>\n",
       "      <td>4</td>\n",
       "      <td>17474</td>\n",
       "      <td>1</td>\n",
       "      <td>156</td>\n",
       "      <td>56.0</td>\n",
       "      <td>100</td>\n",
       "      <td>60</td>\n",
       "      <td>1</td>\n",
       "      <td>1</td>\n",
       "      <td>0</td>\n",
       "      <td>0</td>\n",
       "      <td>0</td>\n",
       "      <td>0</td>\n",
       "    </tr>\n",
       "  </tbody>\n",
       "</table>\n",
       "</div>"
      ],
      "text/plain": [
       "   id    age  gender  height  weight  ap_hi  ap_lo  cholesterol  gluc  smoke  \\\n",
       "0   0  18393       2     168    62.0    110     80            1     1      0   \n",
       "1   1  20228       1     156    85.0    140     90            3     1      0   \n",
       "2   2  18857       1     165    64.0    130     70            3     1      0   \n",
       "3   3  17623       2     169    82.0    150    100            1     1      0   \n",
       "4   4  17474       1     156    56.0    100     60            1     1      0   \n",
       "\n",
       "   alco  active  cardio  \n",
       "0     0       1       0  \n",
       "1     0       1       1  \n",
       "2     0       0       1  \n",
       "3     0       1       1  \n",
       "4     0       0       0  "
      ]
     },
     "execution_count": 3,
     "metadata": {},
     "output_type": "execute_result"
    }
   ],
   "source": [
    "df.head()"
   ]
  },
  {
   "cell_type": "code",
   "execution_count": 4,
   "id": "103da839",
   "metadata": {
    "execution": {
     "iopub.execute_input": "2023-07-08T23:09:44.142286Z",
     "iopub.status.busy": "2023-07-08T23:09:44.141394Z",
     "iopub.status.idle": "2023-07-08T23:09:44.173820Z",
     "shell.execute_reply": "2023-07-08T23:09:44.172658Z"
    },
    "papermill": {
     "duration": 0.04232,
     "end_time": "2023-07-08T23:09:44.176878",
     "exception": false,
     "start_time": "2023-07-08T23:09:44.134558",
     "status": "completed"
    },
    "tags": []
   },
   "outputs": [],
   "source": [
    "# Converting the age in days to years\n",
    "df['age'] = df['age']/365\n",
    "df['age'] = df['age'].round(2)\n",
    "# Converting the height in cm to ft\n",
    "df['height'] = df['height']*0.032808399\n",
    "df['height'] = df['height'].round(2)\n",
    "df = df.rename(columns={'age': 'age_years', 'height': 'height_ft'})\n",
    "\n",
    "df = df.drop(\"id\", axis=1)"
   ]
  },
  {
   "cell_type": "code",
   "execution_count": 5,
   "id": "f7edfd7c",
   "metadata": {
    "execution": {
     "iopub.execute_input": "2023-07-08T23:09:44.189290Z",
     "iopub.status.busy": "2023-07-08T23:09:44.188892Z",
     "iopub.status.idle": "2023-07-08T23:09:44.209194Z",
     "shell.execute_reply": "2023-07-08T23:09:44.208020Z"
    },
    "papermill": {
     "duration": 0.029791,
     "end_time": "2023-07-08T23:09:44.211864",
     "exception": false,
     "start_time": "2023-07-08T23:09:44.182073",
     "status": "completed"
    },
    "tags": []
   },
   "outputs": [],
   "source": [
    "df['cardio'].value_counts(normalize=True)\n",
    "train_data, test_data = train_test_split(df, test_size=0.3, random_state=42)\n"
   ]
  },
  {
   "cell_type": "code",
   "execution_count": 6,
   "id": "b04d38a6",
   "metadata": {
    "execution": {
     "iopub.execute_input": "2023-07-08T23:09:44.224057Z",
     "iopub.status.busy": "2023-07-08T23:09:44.223454Z",
     "iopub.status.idle": "2023-07-08T23:09:44.228284Z",
     "shell.execute_reply": "2023-07-08T23:09:44.227301Z"
    },
    "papermill": {
     "duration": 0.013498,
     "end_time": "2023-07-08T23:09:44.230554",
     "exception": false,
     "start_time": "2023-07-08T23:09:44.217056",
     "status": "completed"
    },
    "tags": []
   },
   "outputs": [],
   "source": [
    "# Separate instances belonging to class 0 and class 1 in the train dataset\n"
   ]
  },
  {
   "cell_type": "code",
   "execution_count": 7,
   "id": "d07b76aa",
   "metadata": {
    "execution": {
     "iopub.execute_input": "2023-07-08T23:09:44.242077Z",
     "iopub.status.busy": "2023-07-08T23:09:44.241650Z",
     "iopub.status.idle": "2023-07-08T23:09:44.251134Z",
     "shell.execute_reply": "2023-07-08T23:09:44.250046Z"
    },
    "papermill": {
     "duration": 0.017994,
     "end_time": "2023-07-08T23:09:44.253551",
     "exception": false,
     "start_time": "2023-07-08T23:09:44.235557",
     "status": "completed"
    },
    "tags": []
   },
   "outputs": [
    {
     "data": {
      "text/plain": [
       "0    0.501224\n",
       "1    0.498776\n",
       "Name: cardio, dtype: float64"
      ]
     },
     "execution_count": 7,
     "metadata": {},
     "output_type": "execute_result"
    }
   ],
   "source": [
    "train_data['cardio'].value_counts(normalize=True)\n"
   ]
  },
  {
   "cell_type": "code",
   "execution_count": 8,
   "id": "c34d69f2",
   "metadata": {
    "execution": {
     "iopub.execute_input": "2023-07-08T23:09:44.267457Z",
     "iopub.status.busy": "2023-07-08T23:09:44.267070Z",
     "iopub.status.idle": "2023-07-08T23:09:44.278296Z",
     "shell.execute_reply": "2023-07-08T23:09:44.277246Z"
    },
    "papermill": {
     "duration": 0.021939,
     "end_time": "2023-07-08T23:09:44.280811",
     "exception": false,
     "start_time": "2023-07-08T23:09:44.258872",
     "status": "completed"
    },
    "tags": []
   },
   "outputs": [],
   "source": [
    "train_data = train_data.reset_index(drop=True)\n",
    "\n",
    "X_train_data = train_data.drop(\"cardio\", axis=True)\n",
    "\n",
    "y_train_data = train_data[\"cardio\"]"
   ]
  },
  {
   "cell_type": "code",
   "execution_count": 9,
   "id": "a44e135f",
   "metadata": {
    "execution": {
     "iopub.execute_input": "2023-07-08T23:09:44.293018Z",
     "iopub.status.busy": "2023-07-08T23:09:44.292630Z",
     "iopub.status.idle": "2023-07-08T23:09:44.309703Z",
     "shell.execute_reply": "2023-07-08T23:09:44.308616Z"
    },
    "papermill": {
     "duration": 0.026034,
     "end_time": "2023-07-08T23:09:44.312138",
     "exception": false,
     "start_time": "2023-07-08T23:09:44.286104",
     "status": "completed"
    },
    "tags": []
   },
   "outputs": [
    {
     "data": {
      "text/html": [
       "<div>\n",
       "<style scoped>\n",
       "    .dataframe tbody tr th:only-of-type {\n",
       "        vertical-align: middle;\n",
       "    }\n",
       "\n",
       "    .dataframe tbody tr th {\n",
       "        vertical-align: top;\n",
       "    }\n",
       "\n",
       "    .dataframe thead th {\n",
       "        text-align: right;\n",
       "    }\n",
       "</style>\n",
       "<table border=\"1\" class=\"dataframe\">\n",
       "  <thead>\n",
       "    <tr style=\"text-align: right;\">\n",
       "      <th></th>\n",
       "      <th>age_years</th>\n",
       "      <th>gender</th>\n",
       "      <th>height_ft</th>\n",
       "      <th>weight</th>\n",
       "      <th>ap_hi</th>\n",
       "      <th>ap_lo</th>\n",
       "      <th>cholesterol</th>\n",
       "      <th>gluc</th>\n",
       "      <th>smoke</th>\n",
       "      <th>alco</th>\n",
       "      <th>active</th>\n",
       "    </tr>\n",
       "  </thead>\n",
       "  <tbody>\n",
       "    <tr>\n",
       "      <th>0</th>\n",
       "      <td>55.94</td>\n",
       "      <td>1</td>\n",
       "      <td>5.25</td>\n",
       "      <td>64.0</td>\n",
       "      <td>120</td>\n",
       "      <td>90</td>\n",
       "      <td>3</td>\n",
       "      <td>1</td>\n",
       "      <td>0</td>\n",
       "      <td>0</td>\n",
       "      <td>1</td>\n",
       "    </tr>\n",
       "    <tr>\n",
       "      <th>1</th>\n",
       "      <td>62.16</td>\n",
       "      <td>2</td>\n",
       "      <td>5.48</td>\n",
       "      <td>65.0</td>\n",
       "      <td>120</td>\n",
       "      <td>80</td>\n",
       "      <td>3</td>\n",
       "      <td>3</td>\n",
       "      <td>0</td>\n",
       "      <td>0</td>\n",
       "      <td>0</td>\n",
       "    </tr>\n",
       "    <tr>\n",
       "      <th>2</th>\n",
       "      <td>62.42</td>\n",
       "      <td>1</td>\n",
       "      <td>5.25</td>\n",
       "      <td>66.0</td>\n",
       "      <td>120</td>\n",
       "      <td>90</td>\n",
       "      <td>1</td>\n",
       "      <td>1</td>\n",
       "      <td>0</td>\n",
       "      <td>0</td>\n",
       "      <td>1</td>\n",
       "    </tr>\n",
       "    <tr>\n",
       "      <th>3</th>\n",
       "      <td>62.05</td>\n",
       "      <td>1</td>\n",
       "      <td>5.35</td>\n",
       "      <td>55.0</td>\n",
       "      <td>125</td>\n",
       "      <td>90</td>\n",
       "      <td>3</td>\n",
       "      <td>1</td>\n",
       "      <td>0</td>\n",
       "      <td>0</td>\n",
       "      <td>1</td>\n",
       "    </tr>\n",
       "    <tr>\n",
       "      <th>4</th>\n",
       "      <td>59.48</td>\n",
       "      <td>1</td>\n",
       "      <td>5.18</td>\n",
       "      <td>85.0</td>\n",
       "      <td>150</td>\n",
       "      <td>80</td>\n",
       "      <td>3</td>\n",
       "      <td>1</td>\n",
       "      <td>0</td>\n",
       "      <td>0</td>\n",
       "      <td>1</td>\n",
       "    </tr>\n",
       "  </tbody>\n",
       "</table>\n",
       "</div>"
      ],
      "text/plain": [
       "   age_years  gender  height_ft  weight  ap_hi  ap_lo  cholesterol  gluc  \\\n",
       "0      55.94       1       5.25    64.0    120     90            3     1   \n",
       "1      62.16       2       5.48    65.0    120     80            3     3   \n",
       "2      62.42       1       5.25    66.0    120     90            1     1   \n",
       "3      62.05       1       5.35    55.0    125     90            3     1   \n",
       "4      59.48       1       5.18    85.0    150     80            3     1   \n",
       "\n",
       "   smoke  alco  active  \n",
       "0      0     0       1  \n",
       "1      0     0       0  \n",
       "2      0     0       1  \n",
       "3      0     0       1  \n",
       "4      0     0       1  "
      ]
     },
     "execution_count": 9,
     "metadata": {},
     "output_type": "execute_result"
    }
   ],
   "source": [
    "X_train_data.head()\n"
   ]
  },
  {
   "cell_type": "code",
   "execution_count": 10,
   "id": "e7d69cc0",
   "metadata": {
    "execution": {
     "iopub.execute_input": "2023-07-08T23:09:44.325342Z",
     "iopub.status.busy": "2023-07-08T23:09:44.324953Z",
     "iopub.status.idle": "2023-07-08T23:09:44.333778Z",
     "shell.execute_reply": "2023-07-08T23:09:44.332482Z"
    },
    "papermill": {
     "duration": 0.018823,
     "end_time": "2023-07-08T23:09:44.336629",
     "exception": false,
     "start_time": "2023-07-08T23:09:44.317806",
     "status": "completed"
    },
    "tags": []
   },
   "outputs": [],
   "source": [
    "test_data = test_data.reset_index(drop=True)\n",
    "\n",
    "X_test_data = test_data.drop(\"cardio\", axis=True)\n",
    "\n",
    "y_test_data = test_data[\"cardio\"]"
   ]
  },
  {
   "cell_type": "code",
   "execution_count": 11,
   "id": "ff4f3f56",
   "metadata": {
    "execution": {
     "iopub.execute_input": "2023-07-08T23:09:44.350073Z",
     "iopub.status.busy": "2023-07-08T23:09:44.349676Z",
     "iopub.status.idle": "2023-07-08T23:09:44.366388Z",
     "shell.execute_reply": "2023-07-08T23:09:44.365127Z"
    },
    "papermill": {
     "duration": 0.026588,
     "end_time": "2023-07-08T23:09:44.369025",
     "exception": false,
     "start_time": "2023-07-08T23:09:44.342437",
     "status": "completed"
    },
    "tags": []
   },
   "outputs": [
    {
     "data": {
      "text/html": [
       "<div>\n",
       "<style scoped>\n",
       "    .dataframe tbody tr th:only-of-type {\n",
       "        vertical-align: middle;\n",
       "    }\n",
       "\n",
       "    .dataframe tbody tr th {\n",
       "        vertical-align: top;\n",
       "    }\n",
       "\n",
       "    .dataframe thead th {\n",
       "        text-align: right;\n",
       "    }\n",
       "</style>\n",
       "<table border=\"1\" class=\"dataframe\">\n",
       "  <thead>\n",
       "    <tr style=\"text-align: right;\">\n",
       "      <th></th>\n",
       "      <th>age_years</th>\n",
       "      <th>gender</th>\n",
       "      <th>height_ft</th>\n",
       "      <th>weight</th>\n",
       "      <th>ap_hi</th>\n",
       "      <th>ap_lo</th>\n",
       "      <th>cholesterol</th>\n",
       "      <th>gluc</th>\n",
       "      <th>smoke</th>\n",
       "      <th>alco</th>\n",
       "      <th>active</th>\n",
       "    </tr>\n",
       "  </thead>\n",
       "  <tbody>\n",
       "    <tr>\n",
       "      <th>0</th>\n",
       "      <td>59.64</td>\n",
       "      <td>1</td>\n",
       "      <td>5.12</td>\n",
       "      <td>64.0</td>\n",
       "      <td>140</td>\n",
       "      <td>80</td>\n",
       "      <td>2</td>\n",
       "      <td>1</td>\n",
       "      <td>0</td>\n",
       "      <td>0</td>\n",
       "      <td>1</td>\n",
       "    </tr>\n",
       "    <tr>\n",
       "      <th>1</th>\n",
       "      <td>59.93</td>\n",
       "      <td>1</td>\n",
       "      <td>5.58</td>\n",
       "      <td>85.0</td>\n",
       "      <td>160</td>\n",
       "      <td>90</td>\n",
       "      <td>1</td>\n",
       "      <td>1</td>\n",
       "      <td>0</td>\n",
       "      <td>0</td>\n",
       "      <td>1</td>\n",
       "    </tr>\n",
       "    <tr>\n",
       "      <th>2</th>\n",
       "      <td>63.75</td>\n",
       "      <td>1</td>\n",
       "      <td>4.95</td>\n",
       "      <td>90.0</td>\n",
       "      <td>130</td>\n",
       "      <td>80</td>\n",
       "      <td>1</td>\n",
       "      <td>1</td>\n",
       "      <td>0</td>\n",
       "      <td>0</td>\n",
       "      <td>1</td>\n",
       "    </tr>\n",
       "    <tr>\n",
       "      <th>3</th>\n",
       "      <td>54.08</td>\n",
       "      <td>1</td>\n",
       "      <td>5.22</td>\n",
       "      <td>97.0</td>\n",
       "      <td>120</td>\n",
       "      <td>80</td>\n",
       "      <td>1</td>\n",
       "      <td>1</td>\n",
       "      <td>0</td>\n",
       "      <td>0</td>\n",
       "      <td>1</td>\n",
       "    </tr>\n",
       "    <tr>\n",
       "      <th>4</th>\n",
       "      <td>50.40</td>\n",
       "      <td>1</td>\n",
       "      <td>5.38</td>\n",
       "      <td>68.0</td>\n",
       "      <td>120</td>\n",
       "      <td>80</td>\n",
       "      <td>1</td>\n",
       "      <td>1</td>\n",
       "      <td>0</td>\n",
       "      <td>0</td>\n",
       "      <td>1</td>\n",
       "    </tr>\n",
       "  </tbody>\n",
       "</table>\n",
       "</div>"
      ],
      "text/plain": [
       "   age_years  gender  height_ft  weight  ap_hi  ap_lo  cholesterol  gluc  \\\n",
       "0      59.64       1       5.12    64.0    140     80            2     1   \n",
       "1      59.93       1       5.58    85.0    160     90            1     1   \n",
       "2      63.75       1       4.95    90.0    130     80            1     1   \n",
       "3      54.08       1       5.22    97.0    120     80            1     1   \n",
       "4      50.40       1       5.38    68.0    120     80            1     1   \n",
       "\n",
       "   smoke  alco  active  \n",
       "0      0     0       1  \n",
       "1      0     0       1  \n",
       "2      0     0       1  \n",
       "3      0     0       1  \n",
       "4      0     0       1  "
      ]
     },
     "execution_count": 11,
     "metadata": {},
     "output_type": "execute_result"
    }
   ],
   "source": [
    "X_test_data.head()\n"
   ]
  },
  {
   "cell_type": "code",
   "execution_count": 12,
   "id": "8362c782",
   "metadata": {
    "execution": {
     "iopub.execute_input": "2023-07-08T23:09:44.383088Z",
     "iopub.status.busy": "2023-07-08T23:09:44.382643Z",
     "iopub.status.idle": "2023-07-08T23:09:46.758904Z",
     "shell.execute_reply": "2023-07-08T23:09:46.757564Z"
    },
    "papermill": {
     "duration": 2.386763,
     "end_time": "2023-07-08T23:09:46.761805",
     "exception": false,
     "start_time": "2023-07-08T23:09:44.375042",
     "status": "completed"
    },
    "tags": []
   },
   "outputs": [
    {
     "name": "stderr",
     "output_type": "stream",
     "text": [
      "/opt/conda/lib/python3.10/site-packages/sklearn/base.py:439: UserWarning: X does not have valid feature names, but IsolationForest was fitted with feature names\n",
      "  warnings.warn(\n"
     ]
    },
    {
     "name": "stdout",
     "output_type": "stream",
     "text": [
      "              precision    recall  f1-score   support\n",
      "\n",
      "           0       0.55      0.77      0.64     10461\n",
      "           1       0.62      0.36      0.46     10539\n",
      "\n",
      "    accuracy                           0.57     21000\n",
      "   macro avg       0.58      0.57      0.55     21000\n",
      "weighted avg       0.58      0.57      0.55     21000\n",
      "\n"
     ]
    }
   ],
   "source": [
    "model_IF = IsolationForest(contamination=float(0.3),random_state=42)\n",
    "\n",
    "# Create and fit the Isolation Forest model\n",
    "model_IF.fit(X_train_data)\n",
    "\n",
    "# Generate outlier scores for instances\n",
    "outlier_scores = model_IF.decision_function(X_test_data)\n",
    "\n",
    "# Define a threshold to classify instances as anomalies or normal data\n",
    "threshold = 0.0\n",
    "\n",
    "# Convert outlier scores to binary labels based on the threshold\n",
    "predictions = [1 if score < threshold else 0 for score in outlier_scores]\n",
    "\n",
    "# Calculate precision, recall, and F1-score\n",
    "print(classification_report(y_test_data, predictions))"
   ]
  }
 ],
 "metadata": {
  "kernelspec": {
   "display_name": "Python 3",
   "language": "python",
   "name": "python3"
  },
  "language_info": {
   "codemirror_mode": {
    "name": "ipython",
    "version": 3
   },
   "file_extension": ".py",
   "mimetype": "text/x-python",
   "name": "python",
   "nbconvert_exporter": "python",
   "pygments_lexer": "ipython3",
   "version": "3.10.10"
  },
  "papermill": {
   "default_parameters": {},
   "duration": 18.417833,
   "end_time": "2023-07-08T23:09:47.792031",
   "environment_variables": {},
   "exception": null,
   "input_path": "__notebook__.ipynb",
   "output_path": "__notebook__.ipynb",
   "parameters": {},
   "start_time": "2023-07-08T23:09:29.374198",
   "version": "2.4.0"
  }
 },
 "nbformat": 4,
 "nbformat_minor": 5
}
