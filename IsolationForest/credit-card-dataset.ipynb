{
 "cells": [
  {
   "cell_type": "code",
   "execution_count": 1,
   "id": "099b0835",
   "metadata": {
    "_cell_guid": "b1076dfc-b9ad-4769-8c92-a6c4dae69d19",
    "_uuid": "8f2839f25d086af736a60e9eeb907d3b93b6e0e5",
    "execution": {
     "iopub.execute_input": "2023-07-08T23:11:51.599393Z",
     "iopub.status.busy": "2023-07-08T23:11:51.599002Z",
     "iopub.status.idle": "2023-07-08T23:11:53.451961Z",
     "shell.execute_reply": "2023-07-08T23:11:53.450710Z"
    },
    "papermill": {
     "duration": 1.86091,
     "end_time": "2023-07-08T23:11:53.454488",
     "exception": false,
     "start_time": "2023-07-08T23:11:51.593578",
     "status": "completed"
    },
    "tags": []
   },
   "outputs": [],
   "source": [
    "import pandas as pd\n",
    "import seaborn as sns\n",
    "from sklearn.ensemble import IsolationForest\n",
    "from sklearn.metrics import accuracy_score, precision_score, recall_score, f1_score, confusion_matrix\n",
    "from sklearn.metrics import classification_report\n",
    "from sklearn.preprocessing import LabelEncoder\n",
    "from sklearn.model_selection import train_test_split\n",
    "import numpy as np\n",
    "import datetime as dt\n",
    "from datetime import datetime\n",
    "from sklearn.preprocessing import StandardScaler\n"
   ]
  },
  {
   "cell_type": "code",
   "execution_count": 2,
   "id": "f63b3d40",
   "metadata": {
    "execution": {
     "iopub.execute_input": "2023-07-08T23:11:53.462863Z",
     "iopub.status.busy": "2023-07-08T23:11:53.462516Z",
     "iopub.status.idle": "2023-07-08T23:12:02.095097Z",
     "shell.execute_reply": "2023-07-08T23:12:02.093750Z"
    },
    "papermill": {
     "duration": 8.639608,
     "end_time": "2023-07-08T23:12:02.097651",
     "exception": false,
     "start_time": "2023-07-08T23:11:53.458043",
     "status": "completed"
    },
    "tags": []
   },
   "outputs": [],
   "source": [
    "df = pd.read_csv('/kaggle/input/fraud-detection/fraudTrain.csv')"
   ]
  },
  {
   "cell_type": "code",
   "execution_count": 3,
   "id": "a51729be",
   "metadata": {
    "execution": {
     "iopub.execute_input": "2023-07-08T23:12:02.105630Z",
     "iopub.status.busy": "2023-07-08T23:12:02.105197Z",
     "iopub.status.idle": "2023-07-08T23:12:02.111537Z",
     "shell.execute_reply": "2023-07-08T23:12:02.110312Z"
    },
    "papermill": {
     "duration": 0.013212,
     "end_time": "2023-07-08T23:12:02.114201",
     "exception": false,
     "start_time": "2023-07-08T23:12:02.100989",
     "status": "completed"
    },
    "tags": []
   },
   "outputs": [],
   "source": [
    "# Extract the desired numerical features from the datetime column\n",
    "# df['trans_date_trans_time'] = pd.to_datetime(df['trans_date_trans_time'])\n",
    "# df['year'] = df['trans_date_trans_time'].dt.year\n",
    "# df['month'] = df['trans_date_trans_time'].dt.month\n",
    "\n",
    "# # print(df.columns)\n",
    "# df.head(1)\n",
    "# print(df.dtypes)\n"
   ]
  },
  {
   "cell_type": "code",
   "execution_count": 4,
   "id": "4736e23e",
   "metadata": {
    "execution": {
     "iopub.execute_input": "2023-07-08T23:12:02.123137Z",
     "iopub.status.busy": "2023-07-08T23:12:02.122780Z",
     "iopub.status.idle": "2023-07-08T23:12:02.150254Z",
     "shell.execute_reply": "2023-07-08T23:12:02.148966Z"
    },
    "papermill": {
     "duration": 0.034885,
     "end_time": "2023-07-08T23:12:02.152954",
     "exception": false,
     "start_time": "2023-07-08T23:12:02.118069",
     "status": "completed"
    },
    "tags": []
   },
   "outputs": [
    {
     "name": "stdout",
     "output_type": "stream",
     "text": [
      "0    0.994211\n",
      "1    0.005789\n",
      "Name: is_fraud, dtype: float64\n"
     ]
    }
   ],
   "source": [
    "# Count the occurrences of each class\n",
    "class_counts = df['is_fraud'].value_counts()\n",
    "\n",
    "# Calculate the class distribution\n",
    "class_distribution = class_counts / len(df)\n",
    "\n",
    "print(class_distribution)"
   ]
  },
  {
   "cell_type": "code",
   "execution_count": 5,
   "id": "5cc18167",
   "metadata": {
    "execution": {
     "iopub.execute_input": "2023-07-08T23:12:02.161445Z",
     "iopub.status.busy": "2023-07-08T23:12:02.161092Z",
     "iopub.status.idle": "2023-07-08T23:12:02.166001Z",
     "shell.execute_reply": "2023-07-08T23:12:02.164585Z"
    },
    "papermill": {
     "duration": 0.011682,
     "end_time": "2023-07-08T23:12:02.168254",
     "exception": false,
     "start_time": "2023-07-08T23:12:02.156572",
     "status": "completed"
    },
    "tags": []
   },
   "outputs": [],
   "source": [
    "\n",
    "# label_encoder = LabelEncoder()\n",
    "# df['state'] = label_encoder.fit_transform(df['state'])\n",
    "# df['city'] = label_encoder.fit_transform(df['city'])\n",
    "# df['category'] = label_encoder.fit_transform(df['category'])\n",
    "# df.dtypes"
   ]
  },
  {
   "cell_type": "code",
   "execution_count": 6,
   "id": "90b4ab46",
   "metadata": {
    "execution": {
     "iopub.execute_input": "2023-07-08T23:12:02.176884Z",
     "iopub.status.busy": "2023-07-08T23:12:02.176469Z",
     "iopub.status.idle": "2023-07-08T23:12:03.892689Z",
     "shell.execute_reply": "2023-07-08T23:12:03.891805Z"
    },
    "papermill": {
     "duration": 1.722538,
     "end_time": "2023-07-08T23:12:03.894517",
     "exception": false,
     "start_time": "2023-07-08T23:12:02.171979",
     "status": "completed"
    },
    "tags": []
   },
   "outputs": [
    {
     "name": "stderr",
     "output_type": "stream",
     "text": [
      "/opt/conda/lib/python3.10/site-packages/sklearn/preprocessing/_label.py:116: DataConversionWarning: A column-vector y was passed when a 1d array was expected. Please change the shape of y to (n_samples, ), for example using ravel().\n",
      "  y = column_or_1d(y, warn=True)\n",
      "/opt/conda/lib/python3.10/site-packages/sklearn/preprocessing/_label.py:116: DataConversionWarning: A column-vector y was passed when a 1d array was expected. Please change the shape of y to (n_samples, ), for example using ravel().\n",
      "  y = column_or_1d(y, warn=True)\n",
      "/opt/conda/lib/python3.10/site-packages/sklearn/preprocessing/_label.py:116: DataConversionWarning: A column-vector y was passed when a 1d array was expected. Please change the shape of y to (n_samples, ), for example using ravel().\n",
      "  y = column_or_1d(y, warn=True)\n"
     ]
    },
    {
     "data": {
      "text/html": [
       "<div>\n",
       "<style scoped>\n",
       "    .dataframe tbody tr th:only-of-type {\n",
       "        vertical-align: middle;\n",
       "    }\n",
       "\n",
       "    .dataframe tbody tr th {\n",
       "        vertical-align: top;\n",
       "    }\n",
       "\n",
       "    .dataframe thead th {\n",
       "        text-align: right;\n",
       "    }\n",
       "</style>\n",
       "<table border=\"1\" class=\"dataframe\">\n",
       "  <thead>\n",
       "    <tr style=\"text-align: right;\">\n",
       "      <th></th>\n",
       "      <th>Unnamed: 0</th>\n",
       "      <th>hour</th>\n",
       "      <th>day</th>\n",
       "      <th>month</th>\n",
       "      <th>trans_date_trans_time</th>\n",
       "      <th>cc_num</th>\n",
       "      <th>merchant</th>\n",
       "      <th>category</th>\n",
       "      <th>amt</th>\n",
       "      <th>first</th>\n",
       "      <th>...</th>\n",
       "      <th>unix_time</th>\n",
       "      <th>merch_lat</th>\n",
       "      <th>merch_long</th>\n",
       "      <th>is_fraud</th>\n",
       "      <th>amt_log</th>\n",
       "      <th>city_pop_log</th>\n",
       "      <th>age</th>\n",
       "      <th>category_enc</th>\n",
       "      <th>gender_enc</th>\n",
       "      <th>state_enc</th>\n",
       "    </tr>\n",
       "  </thead>\n",
       "  <tbody>\n",
       "    <tr>\n",
       "      <th>0</th>\n",
       "      <td>0</td>\n",
       "      <td>0</td>\n",
       "      <td>1</td>\n",
       "      <td>1</td>\n",
       "      <td>2019-01-01 00:00:18</td>\n",
       "      <td>2703186189652095</td>\n",
       "      <td>fraud_Rippin, Kub and Mann</td>\n",
       "      <td>misc_net</td>\n",
       "      <td>4.97</td>\n",
       "      <td>Jennifer</td>\n",
       "      <td>...</td>\n",
       "      <td>1325376018</td>\n",
       "      <td>36.011293</td>\n",
       "      <td>-82.048315</td>\n",
       "      <td>0</td>\n",
       "      <td>1.603420</td>\n",
       "      <td>8.159089</td>\n",
       "      <td>3.555348</td>\n",
       "      <td>8</td>\n",
       "      <td>0</td>\n",
       "      <td>27</td>\n",
       "    </tr>\n",
       "    <tr>\n",
       "      <th>1</th>\n",
       "      <td>1</td>\n",
       "      <td>0</td>\n",
       "      <td>1</td>\n",
       "      <td>1</td>\n",
       "      <td>2019-01-01 00:00:44</td>\n",
       "      <td>630423337322</td>\n",
       "      <td>fraud_Heller, Gutmann and Zieme</td>\n",
       "      <td>grocery_pos</td>\n",
       "      <td>107.23</td>\n",
       "      <td>Stephanie</td>\n",
       "      <td>...</td>\n",
       "      <td>1325376044</td>\n",
       "      <td>49.159047</td>\n",
       "      <td>-118.186462</td>\n",
       "      <td>0</td>\n",
       "      <td>4.674976</td>\n",
       "      <td>5.003946</td>\n",
       "      <td>3.806662</td>\n",
       "      <td>4</td>\n",
       "      <td>0</td>\n",
       "      <td>47</td>\n",
       "    </tr>\n",
       "    <tr>\n",
       "      <th>2</th>\n",
       "      <td>2</td>\n",
       "      <td>0</td>\n",
       "      <td>1</td>\n",
       "      <td>1</td>\n",
       "      <td>2019-01-01 00:00:51</td>\n",
       "      <td>38859492057661</td>\n",
       "      <td>fraud_Lind-Buckridge</td>\n",
       "      <td>entertainment</td>\n",
       "      <td>220.11</td>\n",
       "      <td>Edward</td>\n",
       "      <td>...</td>\n",
       "      <td>1325376051</td>\n",
       "      <td>43.150704</td>\n",
       "      <td>-112.154481</td>\n",
       "      <td>0</td>\n",
       "      <td>5.394127</td>\n",
       "      <td>8.331827</td>\n",
       "      <td>4.110874</td>\n",
       "      <td>0</td>\n",
       "      <td>1</td>\n",
       "      <td>13</td>\n",
       "    </tr>\n",
       "    <tr>\n",
       "      <th>3</th>\n",
       "      <td>3</td>\n",
       "      <td>0</td>\n",
       "      <td>1</td>\n",
       "      <td>1</td>\n",
       "      <td>2019-01-01 00:01:16</td>\n",
       "      <td>3534093764340240</td>\n",
       "      <td>fraud_Kutch, Hermiston and Farrell</td>\n",
       "      <td>gas_transport</td>\n",
       "      <td>45.00</td>\n",
       "      <td>Jeremy</td>\n",
       "      <td>...</td>\n",
       "      <td>1325376076</td>\n",
       "      <td>47.034331</td>\n",
       "      <td>-112.561071</td>\n",
       "      <td>0</td>\n",
       "      <td>3.806662</td>\n",
       "      <td>7.569928</td>\n",
       "      <td>4.025352</td>\n",
       "      <td>2</td>\n",
       "      <td>1</td>\n",
       "      <td>26</td>\n",
       "    </tr>\n",
       "    <tr>\n",
       "      <th>4</th>\n",
       "      <td>4</td>\n",
       "      <td>0</td>\n",
       "      <td>1</td>\n",
       "      <td>1</td>\n",
       "      <td>2019-01-01 00:03:06</td>\n",
       "      <td>375534208663984</td>\n",
       "      <td>fraud_Keeling-Crist</td>\n",
       "      <td>misc_pos</td>\n",
       "      <td>41.96</td>\n",
       "      <td>Tyler</td>\n",
       "      <td>...</td>\n",
       "      <td>1325376186</td>\n",
       "      <td>38.674999</td>\n",
       "      <td>-78.632459</td>\n",
       "      <td>0</td>\n",
       "      <td>3.736717</td>\n",
       "      <td>4.595120</td>\n",
       "      <td>3.610918</td>\n",
       "      <td>9</td>\n",
       "      <td>1</td>\n",
       "      <td>45</td>\n",
       "    </tr>\n",
       "  </tbody>\n",
       "</table>\n",
       "<p>5 rows × 32 columns</p>\n",
       "</div>"
      ],
      "text/plain": [
       "   Unnamed: 0  hour  day  month trans_date_trans_time            cc_num  \\\n",
       "0           0     0    1      1   2019-01-01 00:00:18  2703186189652095   \n",
       "1           1     0    1      1   2019-01-01 00:00:44      630423337322   \n",
       "2           2     0    1      1   2019-01-01 00:00:51    38859492057661   \n",
       "3           3     0    1      1   2019-01-01 00:01:16  3534093764340240   \n",
       "4           4     0    1      1   2019-01-01 00:03:06   375534208663984   \n",
       "\n",
       "                             merchant       category     amt      first  ...  \\\n",
       "0          fraud_Rippin, Kub and Mann       misc_net    4.97   Jennifer  ...   \n",
       "1     fraud_Heller, Gutmann and Zieme    grocery_pos  107.23  Stephanie  ...   \n",
       "2                fraud_Lind-Buckridge  entertainment  220.11     Edward  ...   \n",
       "3  fraud_Kutch, Hermiston and Farrell  gas_transport   45.00     Jeremy  ...   \n",
       "4                 fraud_Keeling-Crist       misc_pos   41.96      Tyler  ...   \n",
       "\n",
       "    unix_time  merch_lat  merch_long is_fraud   amt_log  city_pop_log  \\\n",
       "0  1325376018  36.011293  -82.048315        0  1.603420      8.159089   \n",
       "1  1325376044  49.159047 -118.186462        0  4.674976      5.003946   \n",
       "2  1325376051  43.150704 -112.154481        0  5.394127      8.331827   \n",
       "3  1325376076  47.034331 -112.561071        0  3.806662      7.569928   \n",
       "4  1325376186  38.674999  -78.632459        0  3.736717      4.595120   \n",
       "\n",
       "        age  category_enc  gender_enc state_enc  \n",
       "0  3.555348             8           0        27  \n",
       "1  3.806662             4           0        47  \n",
       "2  4.110874             0           1        13  \n",
       "3  4.025352             2           1        26  \n",
       "4  3.610918             9           1        45  \n",
       "\n",
       "[5 rows x 32 columns]"
      ]
     },
     "execution_count": 6,
     "metadata": {},
     "output_type": "execute_result"
    }
   ],
   "source": [
    "df['trans_date_trans_time'] = pd.to_datetime(df['trans_date_trans_time'])\n",
    "\n",
    "# Extract hour, day and month into separate columns\n",
    "df.insert(loc=1, column='hour', value=df['trans_date_trans_time'].dt.hour)\n",
    "df.insert(loc=2, column='day', value=df['trans_date_trans_time'].dt.day)\n",
    "df.insert(loc=3, column='month', value=df['trans_date_trans_time'].dt.month)\n",
    "\n",
    "df['amt_log'] = np.log(df['amt'])\n",
    "df['city_pop_log'] = np.log(df['city_pop'])\n",
    "# Converting dob to age and applying log transformation on age\n",
    "df['dob'] = pd.to_datetime(df['dob'])  # Convert 'dob' column to datetime format\n",
    "current_date = datetime.now()  # Get the current date\n",
    "\n",
    "df['age'] = (current_date - df['dob']).dt.days // 365\n",
    "\n",
    "df['age'] = np.log(df['age'])\n",
    "\n",
    "# Create an instance of OneHotEncoder\n",
    "encoder = LabelEncoder()\n",
    "# Fit and transform the 'category' column\n",
    "df['category_enc'] = encoder.fit_transform(df[['category']])\n",
    "df['gender_enc'] = encoder.fit_transform(df[['gender']])\n",
    "df['state_enc'] = encoder.fit_transform(df[['state']])\n",
    "\n",
    "df.head()"
   ]
  },
  {
   "cell_type": "code",
   "execution_count": 7,
   "id": "81a2ce92",
   "metadata": {
    "execution": {
     "iopub.execute_input": "2023-07-08T23:12:03.903220Z",
     "iopub.status.busy": "2023-07-08T23:12:03.902960Z",
     "iopub.status.idle": "2023-07-08T23:12:04.018228Z",
     "shell.execute_reply": "2023-07-08T23:12:04.017223Z"
    },
    "papermill": {
     "duration": 0.122356,
     "end_time": "2023-07-08T23:12:04.020689",
     "exception": false,
     "start_time": "2023-07-08T23:12:03.898333",
     "status": "completed"
    },
    "tags": []
   },
   "outputs": [],
   "source": [
    "# Create a StandardScaler object\n",
    "scaler = StandardScaler()\n",
    "\n",
    "col_to_standardize = ['lat', 'long', 'merch_lat', 'merch_long']\n",
    "# Fit the scaler to your dataframe\n",
    "scaler.fit(df[col_to_standardize])\n",
    "\n",
    "# Convert the transformed array back to a dataframe\n",
    "df[col_to_standardize] = scaler.transform(df[col_to_standardize])"
   ]
  },
  {
   "cell_type": "code",
   "execution_count": 8,
   "id": "c412257f",
   "metadata": {
    "execution": {
     "iopub.execute_input": "2023-07-08T23:12:04.031176Z",
     "iopub.status.busy": "2023-07-08T23:12:04.030902Z",
     "iopub.status.idle": "2023-07-08T23:12:04.421941Z",
     "shell.execute_reply": "2023-07-08T23:12:04.420449Z"
    },
    "papermill": {
     "duration": 0.399734,
     "end_time": "2023-07-08T23:12:04.424359",
     "exception": false,
     "start_time": "2023-07-08T23:12:04.024625",
     "status": "completed"
    },
    "tags": []
   },
   "outputs": [],
   "source": [
    "# Balancing the imbalanced dataset\n",
    "normal_samples = df[df['is_fraud'] == 0].sample(n=20000, random_state=42)\n",
    "\n",
    "anomaly_samples = df[df['is_fraud'] == 1].sample(n=5000, random_state=42)\n",
    "\n",
    "dataset = pd.concat([normal_samples, anomaly_samples], ignore_index=True)"
   ]
  },
  {
   "cell_type": "code",
   "execution_count": 9,
   "id": "9bda694a",
   "metadata": {
    "execution": {
     "iopub.execute_input": "2023-07-08T23:12:04.433865Z",
     "iopub.status.busy": "2023-07-08T23:12:04.433263Z",
     "iopub.status.idle": "2023-07-08T23:12:04.438999Z",
     "shell.execute_reply": "2023-07-08T23:12:04.438410Z"
    },
    "papermill": {
     "duration": 0.012787,
     "end_time": "2023-07-08T23:12:04.441175",
     "exception": false,
     "start_time": "2023-07-08T23:12:04.428388",
     "status": "completed"
    },
    "tags": []
   },
   "outputs": [],
   "source": [
    "X = dataset.drop(['Unnamed: 0',\t'trans_date_trans_time', 'cc_num', 'merchant',\n",
    "                           'category', 'amt', 'first', 'last', 'gender', 'street', 'city',\n",
    "                           'state', 'zip', 'city_pop', 'job', 'dob', 'trans_num', 'unix_time', 'is_fraud'], axis=1)\n",
    "\n",
    "y = dataset['is_fraud']"
   ]
  },
  {
   "cell_type": "code",
   "execution_count": 10,
   "id": "9fe99378",
   "metadata": {
    "execution": {
     "iopub.execute_input": "2023-07-08T23:12:04.450246Z",
     "iopub.status.busy": "2023-07-08T23:12:04.449972Z",
     "iopub.status.idle": "2023-07-08T23:12:04.467993Z",
     "shell.execute_reply": "2023-07-08T23:12:04.467074Z"
    },
    "papermill": {
     "duration": 0.025034,
     "end_time": "2023-07-08T23:12:04.470260",
     "exception": false,
     "start_time": "2023-07-08T23:12:04.445226",
     "status": "completed"
    },
    "tags": []
   },
   "outputs": [
    {
     "data": {
      "text/html": [
       "<div>\n",
       "<style scoped>\n",
       "    .dataframe tbody tr th:only-of-type {\n",
       "        vertical-align: middle;\n",
       "    }\n",
       "\n",
       "    .dataframe tbody tr th {\n",
       "        vertical-align: top;\n",
       "    }\n",
       "\n",
       "    .dataframe thead th {\n",
       "        text-align: right;\n",
       "    }\n",
       "</style>\n",
       "<table border=\"1\" class=\"dataframe\">\n",
       "  <thead>\n",
       "    <tr style=\"text-align: right;\">\n",
       "      <th></th>\n",
       "      <th>hour</th>\n",
       "      <th>day</th>\n",
       "      <th>month</th>\n",
       "      <th>lat</th>\n",
       "      <th>long</th>\n",
       "      <th>merch_lat</th>\n",
       "      <th>merch_long</th>\n",
       "      <th>amt_log</th>\n",
       "      <th>city_pop_log</th>\n",
       "      <th>age</th>\n",
       "      <th>category_enc</th>\n",
       "      <th>gender_enc</th>\n",
       "      <th>state_enc</th>\n",
       "    </tr>\n",
       "  </thead>\n",
       "  <tbody>\n",
       "    <tr>\n",
       "      <th>19372</th>\n",
       "      <td>11</td>\n",
       "      <td>7</td>\n",
       "      <td>3</td>\n",
       "      <td>-0.024729</td>\n",
       "      <td>1.086210</td>\n",
       "      <td>0.024786</td>\n",
       "      <td>1.034536</td>\n",
       "      <td>4.600057</td>\n",
       "      <td>6.576470</td>\n",
       "      <td>3.637586</td>\n",
       "      <td>4</td>\n",
       "      <td>0</td>\n",
       "      <td>20</td>\n",
       "    </tr>\n",
       "    <tr>\n",
       "      <th>11301</th>\n",
       "      <td>18</td>\n",
       "      <td>9</td>\n",
       "      <td>6</td>\n",
       "      <td>0.203845</td>\n",
       "      <td>-0.000841</td>\n",
       "      <td>0.092351</td>\n",
       "      <td>-0.002431</td>\n",
       "      <td>4.309590</td>\n",
       "      <td>7.321189</td>\n",
       "      <td>2.995732</td>\n",
       "      <td>11</td>\n",
       "      <td>1</td>\n",
       "      <td>14</td>\n",
       "    </tr>\n",
       "    <tr>\n",
       "      <th>22903</th>\n",
       "      <td>3</td>\n",
       "      <td>14</td>\n",
       "      <td>10</td>\n",
       "      <td>0.053445</td>\n",
       "      <td>0.832086</td>\n",
       "      <td>0.175531</td>\n",
       "      <td>0.885316</td>\n",
       "      <td>6.943730</td>\n",
       "      <td>6.760415</td>\n",
       "      <td>3.912023</td>\n",
       "      <td>9</td>\n",
       "      <td>0</td>\n",
       "      <td>45</td>\n",
       "    </tr>\n",
       "    <tr>\n",
       "      <th>7549</th>\n",
       "      <td>11</td>\n",
       "      <td>30</td>\n",
       "      <td>3</td>\n",
       "      <td>-1.601917</td>\n",
       "      <td>-0.066899</td>\n",
       "      <td>-1.553571</td>\n",
       "      <td>-0.046316</td>\n",
       "      <td>5.277145</td>\n",
       "      <td>12.845051</td>\n",
       "      <td>3.828641</td>\n",
       "      <td>4</td>\n",
       "      <td>0</td>\n",
       "      <td>18</td>\n",
       "    </tr>\n",
       "    <tr>\n",
       "      <th>9481</th>\n",
       "      <td>16</td>\n",
       "      <td>31</td>\n",
       "      <td>3</td>\n",
       "      <td>0.420678</td>\n",
       "      <td>1.213006</td>\n",
       "      <td>0.468002</td>\n",
       "      <td>1.162193</td>\n",
       "      <td>2.498974</td>\n",
       "      <td>10.448599</td>\n",
       "      <td>3.951244</td>\n",
       "      <td>12</td>\n",
       "      <td>0</td>\n",
       "      <td>34</td>\n",
       "    </tr>\n",
       "  </tbody>\n",
       "</table>\n",
       "</div>"
      ],
      "text/plain": [
       "       hour  day  month       lat      long  merch_lat  merch_long   amt_log  \\\n",
       "19372    11    7      3 -0.024729  1.086210   0.024786    1.034536  4.600057   \n",
       "11301    18    9      6  0.203845 -0.000841   0.092351   -0.002431  4.309590   \n",
       "22903     3   14     10  0.053445  0.832086   0.175531    0.885316  6.943730   \n",
       "7549     11   30      3 -1.601917 -0.066899  -1.553571   -0.046316  5.277145   \n",
       "9481     16   31      3  0.420678  1.213006   0.468002    1.162193  2.498974   \n",
       "\n",
       "       city_pop_log       age  category_enc  gender_enc  state_enc  \n",
       "19372      6.576470  3.637586             4           0         20  \n",
       "11301      7.321189  2.995732            11           1         14  \n",
       "22903      6.760415  3.912023             9           0         45  \n",
       "7549      12.845051  3.828641             4           0         18  \n",
       "9481      10.448599  3.951244            12           0         34  "
      ]
     },
     "execution_count": 10,
     "metadata": {},
     "output_type": "execute_result"
    }
   ],
   "source": [
    "X_train, X_test, y_train, y_test = train_test_split(X, y, test_size=0.3, random_state=13)\n",
    "\n",
    "X_train.head()"
   ]
  },
  {
   "cell_type": "code",
   "execution_count": 11,
   "id": "2545f096",
   "metadata": {
    "execution": {
     "iopub.execute_input": "2023-07-08T23:12:04.479971Z",
     "iopub.status.busy": "2023-07-08T23:12:04.479658Z",
     "iopub.status.idle": "2023-07-08T23:12:04.483657Z",
     "shell.execute_reply": "2023-07-08T23:12:04.482764Z"
    },
    "papermill": {
     "duration": 0.010904,
     "end_time": "2023-07-08T23:12:04.485490",
     "exception": false,
     "start_time": "2023-07-08T23:12:04.474586",
     "status": "completed"
    },
    "tags": []
   },
   "outputs": [],
   "source": [
    "# anomaly_inputs = ['city_pop', 'amt','zip','year','month','merch_lat','merch_long','state','city','category']\n",
    "# # Split the dataset into features (X) and labels (y)\n",
    "# X = df[anomaly_inputs]  # Features\n",
    "# y = df['is_fraud']  # Labels\n",
    "# model_IF = IsolationForest(contamination=float(0.3),random_state=42)\n",
    "\n"
   ]
  },
  {
   "cell_type": "code",
   "execution_count": 12,
   "id": "235c29ac",
   "metadata": {
    "execution": {
     "iopub.execute_input": "2023-07-08T23:12:04.494423Z",
     "iopub.status.busy": "2023-07-08T23:12:04.494085Z",
     "iopub.status.idle": "2023-07-08T23:12:05.249726Z",
     "shell.execute_reply": "2023-07-08T23:12:05.248181Z"
    },
    "papermill": {
     "duration": 0.762403,
     "end_time": "2023-07-08T23:12:05.251862",
     "exception": false,
     "start_time": "2023-07-08T23:12:04.489459",
     "status": "completed"
    },
    "tags": []
   },
   "outputs": [
    {
     "name": "stderr",
     "output_type": "stream",
     "text": [
      "/opt/conda/lib/python3.10/site-packages/sklearn/base.py:439: UserWarning: X does not have valid feature names, but IsolationForest was fitted with feature names\n",
      "  warnings.warn(\n"
     ]
    },
    {
     "name": "stdout",
     "output_type": "stream",
     "text": [
      "              precision    recall  f1-score   support\n",
      "\n",
      "           0       0.84      0.71      0.77      6032\n",
      "           1       0.27      0.44      0.34      1468\n",
      "\n",
      "    accuracy                           0.66      7500\n",
      "   macro avg       0.56      0.58      0.55      7500\n",
      "weighted avg       0.73      0.66      0.69      7500\n",
      "\n"
     ]
    }
   ],
   "source": [
    "model_IF = IsolationForest(contamination=float(0.3),random_state=42)\n",
    "\n",
    "# Create and fit the Isolation Forest model\n",
    "model_IF.fit(X_train)\n",
    "\n",
    "# Generate outlier scores for instances\n",
    "outlier_scores = model_IF.decision_function(X_test)\n",
    "\n",
    "# Define a threshold to classify instances as anomalies or normal data\n",
    "threshold = 0\n",
    "\n",
    "# Convert outlier scores to binary labels based on the threshold\n",
    "predictions = [1 if score < threshold else 0 for score in outlier_scores]\n",
    "\n",
    "# Calculate precision, recall, and F1-score\n",
    "print(classification_report(y_test, predictions))"
   ]
  },
  {
   "cell_type": "code",
   "execution_count": 13,
   "id": "33eca7f3",
   "metadata": {
    "execution": {
     "iopub.execute_input": "2023-07-08T23:12:05.261998Z",
     "iopub.status.busy": "2023-07-08T23:12:05.261191Z",
     "iopub.status.idle": "2023-07-08T23:12:05.267283Z",
     "shell.execute_reply": "2023-07-08T23:12:05.266327Z"
    },
    "papermill": {
     "duration": 0.012977,
     "end_time": "2023-07-08T23:12:05.269039",
     "exception": false,
     "start_time": "2023-07-08T23:12:05.256062",
     "status": "completed"
    },
    "tags": []
   },
   "outputs": [],
   "source": [
    "\n",
    "# # Predict the anomalies\n",
    "# if_prediction = model_IF.predict(X_test)\n",
    "# # Change the anomalies' values to make it consistent with the true values\n",
    "# if_prediction = [1 if i==-1 else 0 for i in if_prediction]\n",
    "# # Check the model performance\n",
    "# print(classification_report(y_test, if_prediction))"
   ]
  }
 ],
 "metadata": {
  "kernelspec": {
   "display_name": "Python 3",
   "language": "python",
   "name": "python3"
  },
  "language_info": {
   "codemirror_mode": {
    "name": "ipython",
    "version": 3
   },
   "file_extension": ".py",
   "mimetype": "text/x-python",
   "name": "python",
   "nbconvert_exporter": "python",
   "pygments_lexer": "ipython3",
   "version": "3.10.10"
  },
  "papermill": {
   "default_parameters": {},
   "duration": 23.021676,
   "end_time": "2023-07-08T23:12:06.193188",
   "environment_variables": {},
   "exception": null,
   "input_path": "__notebook__.ipynb",
   "output_path": "__notebook__.ipynb",
   "parameters": {},
   "start_time": "2023-07-08T23:11:43.171512",
   "version": "2.4.0"
  }
 },
 "nbformat": 4,
 "nbformat_minor": 5
}
