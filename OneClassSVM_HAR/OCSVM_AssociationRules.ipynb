{
 "cells": [
  {
   "cell_type": "code",
   "execution_count": 1,
   "id": "34504ac3",
   "metadata": {},
   "outputs": [],
   "source": [
    "import pandas as pd\n",
    "import numpy as np\n",
    "import matplotlib.pyplot as plt\n",
    "import seaborn as sns\n",
    "from sklearn.preprocessing import LabelEncoder, MinMaxScaler, StandardScaler, KBinsDiscretizer, OneHotEncoder\n",
    "from datetime import datetime\n",
    "from sklearn.svm import OneClassSVM\n",
    "from sklearn.model_selection import train_test_split\n",
    "from collections import Counter \n",
    "from sklearn.metrics import confusion_matrix, fbeta_score, classification_report\n",
    "from sklearn.ensemble import VotingClassifier\n",
    "import time\n",
    "from mlxtend.frequent_patterns import apriori, association_rules\n",
    "import joblib\n",
    "import warnings\n",
    "warnings.filterwarnings(\"ignore\")\n",
    "input_file = \"E:/OVGU/Semester 3/DBSE Project/archive/fraudTrain.csv\"\n",
    "input_file1 = \"E:/OVGU/Semester 3/DBSE Project/archive/fraudTest.csv\"\n",
    "train_csv = pd.read_csv(input_file, parse_dates=['trans_date_trans_time'])\n",
    "test_csv = pd.read_csv(input_file1, parse_dates = ['trans_date_trans_time'])"
   ]
  },
  {
   "cell_type": "code",
   "execution_count": 2,
   "id": "3a56ddbd",
   "metadata": {},
   "outputs": [
    {
     "data": {
      "text/html": [
       "<div>\n",
       "<style scoped>\n",
       "    .dataframe tbody tr th:only-of-type {\n",
       "        vertical-align: middle;\n",
       "    }\n",
       "\n",
       "    .dataframe tbody tr th {\n",
       "        vertical-align: top;\n",
       "    }\n",
       "\n",
       "    .dataframe thead th {\n",
       "        text-align: right;\n",
       "    }\n",
       "</style>\n",
       "<table border=\"1\" class=\"dataframe\">\n",
       "  <thead>\n",
       "    <tr style=\"text-align: right;\">\n",
       "      <th></th>\n",
       "      <th>Unnamed: 0</th>\n",
       "      <th>trans_date_trans_time</th>\n",
       "      <th>cc_num</th>\n",
       "      <th>merchant</th>\n",
       "      <th>category</th>\n",
       "      <th>amt</th>\n",
       "      <th>first</th>\n",
       "      <th>last</th>\n",
       "      <th>gender</th>\n",
       "      <th>street</th>\n",
       "      <th>...</th>\n",
       "      <th>lat</th>\n",
       "      <th>long</th>\n",
       "      <th>city_pop</th>\n",
       "      <th>job</th>\n",
       "      <th>dob</th>\n",
       "      <th>trans_num</th>\n",
       "      <th>unix_time</th>\n",
       "      <th>merch_lat</th>\n",
       "      <th>merch_long</th>\n",
       "      <th>is_fraud</th>\n",
       "    </tr>\n",
       "  </thead>\n",
       "  <tbody>\n",
       "    <tr>\n",
       "      <th>0</th>\n",
       "      <td>0</td>\n",
       "      <td>2020-06-21 12:14:25</td>\n",
       "      <td>2291163933867244</td>\n",
       "      <td>fraud_Kirlin and Sons</td>\n",
       "      <td>personal_care</td>\n",
       "      <td>2.86</td>\n",
       "      <td>Jeff</td>\n",
       "      <td>Elliott</td>\n",
       "      <td>M</td>\n",
       "      <td>351 Darlene Green</td>\n",
       "      <td>...</td>\n",
       "      <td>33.9659</td>\n",
       "      <td>-80.9355</td>\n",
       "      <td>333497</td>\n",
       "      <td>Mechanical engineer</td>\n",
       "      <td>1968-03-19</td>\n",
       "      <td>2da90c7d74bd46a0caf3777415b3ebd3</td>\n",
       "      <td>1371816865</td>\n",
       "      <td>33.986391</td>\n",
       "      <td>-81.200714</td>\n",
       "      <td>0</td>\n",
       "    </tr>\n",
       "    <tr>\n",
       "      <th>1</th>\n",
       "      <td>1</td>\n",
       "      <td>2020-06-21 12:14:33</td>\n",
       "      <td>3573030041201292</td>\n",
       "      <td>fraud_Sporer-Keebler</td>\n",
       "      <td>personal_care</td>\n",
       "      <td>29.84</td>\n",
       "      <td>Joanne</td>\n",
       "      <td>Williams</td>\n",
       "      <td>F</td>\n",
       "      <td>3638 Marsh Union</td>\n",
       "      <td>...</td>\n",
       "      <td>40.3207</td>\n",
       "      <td>-110.4360</td>\n",
       "      <td>302</td>\n",
       "      <td>Sales professional, IT</td>\n",
       "      <td>1990-01-17</td>\n",
       "      <td>324cc204407e99f51b0d6ca0055005e7</td>\n",
       "      <td>1371816873</td>\n",
       "      <td>39.450498</td>\n",
       "      <td>-109.960431</td>\n",
       "      <td>0</td>\n",
       "    </tr>\n",
       "    <tr>\n",
       "      <th>2</th>\n",
       "      <td>2</td>\n",
       "      <td>2020-06-21 12:14:53</td>\n",
       "      <td>3598215285024754</td>\n",
       "      <td>fraud_Swaniawski, Nitzsche and Welch</td>\n",
       "      <td>health_fitness</td>\n",
       "      <td>41.28</td>\n",
       "      <td>Ashley</td>\n",
       "      <td>Lopez</td>\n",
       "      <td>F</td>\n",
       "      <td>9333 Valentine Point</td>\n",
       "      <td>...</td>\n",
       "      <td>40.6729</td>\n",
       "      <td>-73.5365</td>\n",
       "      <td>34496</td>\n",
       "      <td>Librarian, public</td>\n",
       "      <td>1970-10-21</td>\n",
       "      <td>c81755dbbbea9d5c77f094348a7579be</td>\n",
       "      <td>1371816893</td>\n",
       "      <td>40.495810</td>\n",
       "      <td>-74.196111</td>\n",
       "      <td>0</td>\n",
       "    </tr>\n",
       "    <tr>\n",
       "      <th>3</th>\n",
       "      <td>3</td>\n",
       "      <td>2020-06-21 12:15:15</td>\n",
       "      <td>3591919803438423</td>\n",
       "      <td>fraud_Haley Group</td>\n",
       "      <td>misc_pos</td>\n",
       "      <td>60.05</td>\n",
       "      <td>Brian</td>\n",
       "      <td>Williams</td>\n",
       "      <td>M</td>\n",
       "      <td>32941 Krystal Mill Apt. 552</td>\n",
       "      <td>...</td>\n",
       "      <td>28.5697</td>\n",
       "      <td>-80.8191</td>\n",
       "      <td>54767</td>\n",
       "      <td>Set designer</td>\n",
       "      <td>1987-07-25</td>\n",
       "      <td>2159175b9efe66dc301f149d3d5abf8c</td>\n",
       "      <td>1371816915</td>\n",
       "      <td>28.812398</td>\n",
       "      <td>-80.883061</td>\n",
       "      <td>0</td>\n",
       "    </tr>\n",
       "    <tr>\n",
       "      <th>4</th>\n",
       "      <td>4</td>\n",
       "      <td>2020-06-21 12:15:17</td>\n",
       "      <td>3526826139003047</td>\n",
       "      <td>fraud_Johnston-Casper</td>\n",
       "      <td>travel</td>\n",
       "      <td>3.19</td>\n",
       "      <td>Nathan</td>\n",
       "      <td>Massey</td>\n",
       "      <td>M</td>\n",
       "      <td>5783 Evan Roads Apt. 465</td>\n",
       "      <td>...</td>\n",
       "      <td>44.2529</td>\n",
       "      <td>-85.0170</td>\n",
       "      <td>1126</td>\n",
       "      <td>Furniture designer</td>\n",
       "      <td>1955-07-06</td>\n",
       "      <td>57ff021bd3f328f8738bb535c302a31b</td>\n",
       "      <td>1371816917</td>\n",
       "      <td>44.959148</td>\n",
       "      <td>-85.884734</td>\n",
       "      <td>0</td>\n",
       "    </tr>\n",
       "  </tbody>\n",
       "</table>\n",
       "<p>5 rows × 23 columns</p>\n",
       "</div>"
      ],
      "text/plain": [
       "   Unnamed: 0 trans_date_trans_time            cc_num  \\\n",
       "0           0   2020-06-21 12:14:25  2291163933867244   \n",
       "1           1   2020-06-21 12:14:33  3573030041201292   \n",
       "2           2   2020-06-21 12:14:53  3598215285024754   \n",
       "3           3   2020-06-21 12:15:15  3591919803438423   \n",
       "4           4   2020-06-21 12:15:17  3526826139003047   \n",
       "\n",
       "                               merchant        category    amt   first  \\\n",
       "0                 fraud_Kirlin and Sons   personal_care   2.86    Jeff   \n",
       "1                  fraud_Sporer-Keebler   personal_care  29.84  Joanne   \n",
       "2  fraud_Swaniawski, Nitzsche and Welch  health_fitness  41.28  Ashley   \n",
       "3                     fraud_Haley Group        misc_pos  60.05   Brian   \n",
       "4                 fraud_Johnston-Casper          travel   3.19  Nathan   \n",
       "\n",
       "       last gender                       street  ...      lat      long  \\\n",
       "0   Elliott      M            351 Darlene Green  ...  33.9659  -80.9355   \n",
       "1  Williams      F             3638 Marsh Union  ...  40.3207 -110.4360   \n",
       "2     Lopez      F         9333 Valentine Point  ...  40.6729  -73.5365   \n",
       "3  Williams      M  32941 Krystal Mill Apt. 552  ...  28.5697  -80.8191   \n",
       "4    Massey      M     5783 Evan Roads Apt. 465  ...  44.2529  -85.0170   \n",
       "\n",
       "   city_pop                     job         dob  \\\n",
       "0    333497     Mechanical engineer  1968-03-19   \n",
       "1       302  Sales professional, IT  1990-01-17   \n",
       "2     34496       Librarian, public  1970-10-21   \n",
       "3     54767            Set designer  1987-07-25   \n",
       "4      1126      Furniture designer  1955-07-06   \n",
       "\n",
       "                          trans_num   unix_time  merch_lat  merch_long  \\\n",
       "0  2da90c7d74bd46a0caf3777415b3ebd3  1371816865  33.986391  -81.200714   \n",
       "1  324cc204407e99f51b0d6ca0055005e7  1371816873  39.450498 -109.960431   \n",
       "2  c81755dbbbea9d5c77f094348a7579be  1371816893  40.495810  -74.196111   \n",
       "3  2159175b9efe66dc301f149d3d5abf8c  1371816915  28.812398  -80.883061   \n",
       "4  57ff021bd3f328f8738bb535c302a31b  1371816917  44.959148  -85.884734   \n",
       "\n",
       "   is_fraud  \n",
       "0         0  \n",
       "1         0  \n",
       "2         0  \n",
       "3         0  \n",
       "4         0  \n",
       "\n",
       "[5 rows x 23 columns]"
      ]
     },
     "execution_count": 2,
     "metadata": {},
     "output_type": "execute_result"
    }
   ],
   "source": [
    "train_csv.head(5)\n",
    "test_csv.head(5)\n",
    "#df.columns\n",
    "#df.loc[df.is_fraud == 0,'merchant'].value_counts()\n",
    "#df.merchant.unique()\n",
    "#df.category.unique()\n",
    "#df.city_pop.unique()"
   ]
  },
  {
   "cell_type": "code",
   "execution_count": 3,
   "id": "c4bd37fc",
   "metadata": {},
   "outputs": [
    {
     "data": {
      "text/plain": [
       "(Unnamed: 0               0\n",
       " trans_date_trans_time    0\n",
       " cc_num                   0\n",
       " merchant                 0\n",
       " category                 0\n",
       " amt                      0\n",
       " first                    0\n",
       " last                     0\n",
       " gender                   0\n",
       " street                   0\n",
       " city                     0\n",
       " state                    0\n",
       " zip                      0\n",
       " lat                      0\n",
       " long                     0\n",
       " city_pop                 0\n",
       " job                      0\n",
       " dob                      0\n",
       " trans_num                0\n",
       " unix_time                0\n",
       " merch_lat                0\n",
       " merch_long               0\n",
       " is_fraud                 0\n",
       " dtype: int64,\n",
       " Unnamed: 0               0\n",
       " trans_date_trans_time    0\n",
       " cc_num                   0\n",
       " merchant                 0\n",
       " category                 0\n",
       " amt                      0\n",
       " first                    0\n",
       " last                     0\n",
       " gender                   0\n",
       " street                   0\n",
       " city                     0\n",
       " state                    0\n",
       " zip                      0\n",
       " lat                      0\n",
       " long                     0\n",
       " city_pop                 0\n",
       " job                      0\n",
       " dob                      0\n",
       " trans_num                0\n",
       " unix_time                0\n",
       " merch_lat                0\n",
       " merch_long               0\n",
       " is_fraud                 0\n",
       " dtype: int64)"
      ]
     },
     "execution_count": 3,
     "metadata": {},
     "output_type": "execute_result"
    }
   ],
   "source": [
    "#Data Cleaning - Checking for missing values and duplicate values\n",
    "\n",
    "train_csv=train_csv.replace('',np.nan)\n",
    "test_csv = test_csv.replace('', np.nan)\n",
    "train_csv.isnull().sum(), test_csv.isnull().sum()"
   ]
  },
  {
   "cell_type": "code",
   "execution_count": 4,
   "id": "309a9b58",
   "metadata": {},
   "outputs": [
    {
     "name": "stdout",
     "output_type": "stream",
     "text": [
      "<class 'pandas.core.frame.DataFrame'>\n",
      "RangeIndex: 1296675 entries, 0 to 1296674\n",
      "Data columns (total 23 columns):\n",
      " #   Column                 Non-Null Count    Dtype         \n",
      "---  ------                 --------------    -----         \n",
      " 0   Unnamed: 0             1296675 non-null  int64         \n",
      " 1   trans_date_trans_time  1296675 non-null  datetime64[ns]\n",
      " 2   cc_num                 1296675 non-null  int64         \n",
      " 3   merchant               1296675 non-null  object        \n",
      " 4   category               1296675 non-null  object        \n",
      " 5   amt                    1296675 non-null  float64       \n",
      " 6   first                  1296675 non-null  object        \n",
      " 7   last                   1296675 non-null  object        \n",
      " 8   gender                 1296675 non-null  object        \n",
      " 9   street                 1296675 non-null  object        \n",
      " 10  city                   1296675 non-null  object        \n",
      " 11  state                  1296675 non-null  object        \n",
      " 12  zip                    1296675 non-null  int64         \n",
      " 13  lat                    1296675 non-null  float64       \n",
      " 14  long                   1296675 non-null  float64       \n",
      " 15  city_pop               1296675 non-null  int64         \n",
      " 16  job                    1296675 non-null  object        \n",
      " 17  dob                    1296675 non-null  object        \n",
      " 18  trans_num              1296675 non-null  object        \n",
      " 19  unix_time              1296675 non-null  int64         \n",
      " 20  merch_lat              1296675 non-null  float64       \n",
      " 21  merch_long             1296675 non-null  float64       \n",
      " 22  is_fraud               1296675 non-null  int64         \n",
      "dtypes: datetime64[ns](1), float64(5), int64(6), object(11)\n",
      "memory usage: 227.5+ MB\n",
      "<class 'pandas.core.frame.DataFrame'>\n",
      "RangeIndex: 555719 entries, 0 to 555718\n",
      "Data columns (total 23 columns):\n",
      " #   Column                 Non-Null Count   Dtype         \n",
      "---  ------                 --------------   -----         \n",
      " 0   Unnamed: 0             555719 non-null  int64         \n",
      " 1   trans_date_trans_time  555719 non-null  datetime64[ns]\n",
      " 2   cc_num                 555719 non-null  int64         \n",
      " 3   merchant               555719 non-null  object        \n",
      " 4   category               555719 non-null  object        \n",
      " 5   amt                    555719 non-null  float64       \n",
      " 6   first                  555719 non-null  object        \n",
      " 7   last                   555719 non-null  object        \n",
      " 8   gender                 555719 non-null  object        \n",
      " 9   street                 555719 non-null  object        \n",
      " 10  city                   555719 non-null  object        \n",
      " 11  state                  555719 non-null  object        \n",
      " 12  zip                    555719 non-null  int64         \n",
      " 13  lat                    555719 non-null  float64       \n",
      " 14  long                   555719 non-null  float64       \n",
      " 15  city_pop               555719 non-null  int64         \n",
      " 16  job                    555719 non-null  object        \n",
      " 17  dob                    555719 non-null  object        \n",
      " 18  trans_num              555719 non-null  object        \n",
      " 19  unix_time              555719 non-null  int64         \n",
      " 20  merch_lat              555719 non-null  float64       \n",
      " 21  merch_long             555719 non-null  float64       \n",
      " 22  is_fraud               555719 non-null  int64         \n",
      "dtypes: datetime64[ns](1), float64(5), int64(6), object(11)\n",
      "memory usage: 97.5+ MB\n"
     ]
    },
    {
     "data": {
      "text/plain": [
       "(None, None)"
      ]
     },
     "execution_count": 4,
     "metadata": {},
     "output_type": "execute_result"
    }
   ],
   "source": [
    "train_csv.info(), test_csv.info()\n",
    "#df.loc[df.is_fraud == 1,'category'].value_counts()"
   ]
  },
  {
   "cell_type": "code",
   "execution_count": 5,
   "id": "68a53222",
   "metadata": {},
   "outputs": [
    {
     "data": {
      "text/plain": [
       "(False, False)"
      ]
     },
     "execution_count": 5,
     "metadata": {},
     "output_type": "execute_result"
    }
   ],
   "source": [
    "train_csv.duplicated().any(), test_csv.duplicated().any()"
   ]
  },
  {
   "cell_type": "code",
   "execution_count": 6,
   "id": "5f8584ac",
   "metadata": {},
   "outputs": [],
   "source": [
    "#Feature Extraction - Hour, HourEnc, 1D,7D,30D, Age, TimeDiff, age\n",
    "train_csv['hour'] = train_csv.trans_date_trans_time.dt.hour\n",
    "train_csv['hourEnc'] = 0\n",
    "train_csv.loc[train_csv.hour < 5,'hourEnc'] = 1\n",
    "train_csv.loc[train_csv.hour > 21,'hourEnc'] = 1\n",
    "\n",
    "test_csv['hour'] = test_csv.trans_date_trans_time.dt.hour\n",
    "test_csv['hourEnc'] = 0\n",
    "test_csv.loc[test_csv.hour < 5,'hourEnc'] = 1\n",
    "test_csv.loc[test_csv.hour > 21,'hourEnc'] = 1"
   ]
  },
  {
   "cell_type": "code",
   "execution_count": 7,
   "id": "8e5792f2",
   "metadata": {},
   "outputs": [],
   "source": [
    "def last1DayTransactionCount(x):\n",
    "    temp = pd.Series(x.index, index = x.trans_date_trans_time, name='count_1_day').sort_index()\n",
    "    count_1_day = temp.rolling('1d').count() - 1\n",
    "    count_1_day.index = temp.values\n",
    "    x['count_1_day'] = count_1_day.reindex(x.index)\n",
    "    return x\n",
    "def last7DaysTransactionCount(x):\n",
    "    temp = pd.Series(x.index, index = x.trans_date_trans_time, name='count_7_days').sort_index()\n",
    "    count_7_days = temp.rolling('7d').count() - 1\n",
    "    count_7_days.index = temp.values\n",
    "    x['count_7_days'] = count_7_days.reindex(x.index)\n",
    "    return x\n",
    "def last30DaysTransactionCount(x):\n",
    "    temp = pd.Series(x.index, index = x.trans_date_trans_time, name='count_30_days').sort_index()\n",
    "    count_30_days = temp.rolling('30d').count() - 1\n",
    "    count_30_days.index = temp.values\n",
    "    x['count_30_days'] = count_30_days.reindex(x.index)\n",
    "    return x\n",
    "train_csv1 = train_csv.groupby('cc_num', group_keys=False).apply(last1DayTransactionCount)\n",
    "train_csv1 = train_csv1.groupby('cc_num', group_keys=False).apply(last7DaysTransactionCount)\n",
    "train_csv1 = train_csv1.groupby('cc_num', group_keys=False).apply(last30DaysTransactionCount)\n",
    "\n",
    "test_csv1 = test_csv.groupby('cc_num', group_keys=False).apply(last1DayTransactionCount)\n",
    "test_csv1 = test_csv1.groupby('cc_num', group_keys=False).apply(last7DaysTransactionCount)\n",
    "test_csv1 = test_csv1.groupby('cc_num', group_keys=False).apply(last30DaysTransactionCount)"
   ]
  },
  {
   "cell_type": "code",
   "execution_count": 8,
   "id": "7e9b12c7",
   "metadata": {},
   "outputs": [
    {
     "data": {
      "text/plain": [
       "(0              0.0\n",
       " 1              0.0\n",
       " 2              0.0\n",
       " 3              0.0\n",
       " 4              0.0\n",
       "             ...   \n",
       " 1296670    16781.0\n",
       " 1296671     7962.0\n",
       " 1296672    29074.0\n",
       " 1296673     4618.0\n",
       " 1296674    44250.0\n",
       " Name: time_diff, Length: 1296675, dtype: float64,\n",
       " 0             0.0\n",
       " 1             0.0\n",
       " 2             0.0\n",
       " 3             0.0\n",
       " 4             0.0\n",
       "            ...   \n",
       " 555714    16630.0\n",
       " 555715     9743.0\n",
       " 555716      724.0\n",
       " 555717    12025.0\n",
       " 555718     7136.0\n",
       " Name: time_diff, Length: 555719, dtype: float64)"
      ]
     },
     "execution_count": 8,
     "metadata": {},
     "output_type": "execute_result"
    }
   ],
   "source": [
    "def timeDifference(x):\n",
    "    x['time_diff'] = x.trans_date_trans_time - x.trans_date_trans_time.shift()\n",
    "    return x\n",
    "train_csv1 = train_csv1.groupby('cc_num', group_keys=False).apply(timeDifference)\n",
    "train_csv1['time_diff'] = train_csv1['time_diff'].dt.seconds\n",
    "train_csv1=train_csv1.fillna(0)\n",
    "\n",
    "test_csv1 = test_csv1.groupby('cc_num', group_keys=False).apply(timeDifference)\n",
    "test_csv1['time_diff'] = test_csv1['time_diff'].dt.seconds\n",
    "test_csv1=test_csv1.fillna(0)\n",
    "train_csv1['time_diff'], test_csv1['time_diff']"
   ]
  },
  {
   "cell_type": "code",
   "execution_count": 9,
   "id": "09ca0dda",
   "metadata": {},
   "outputs": [],
   "source": [
    "train_csv1['dob'] = pd.to_datetime(train_csv1['dob'])\n",
    "\n",
    "train_csv1['age'] = np.round((train_csv1['trans_date_trans_time'] - train_csv1['dob'])/np.timedelta64(1, 'Y'))\n",
    "\n",
    "test_csv1['dob'] = pd.to_datetime(test_csv1['dob'])\n",
    "\n",
    "test_csv1['age'] = np.round((test_csv1['trans_date_trans_time'] - test_csv1['dob'])/np.timedelta64(1, 'Y'))"
   ]
  },
  {
   "cell_type": "code",
   "execution_count": 10,
   "id": "c3b00409",
   "metadata": {},
   "outputs": [],
   "source": [
    "#dropping irrelevant features\n",
    "train_csv1= train_csv1.drop(['Unnamed: 0', 'trans_date_trans_time','cc_num','merchant', 'first', 'last', 'street','city','state','job','dob','trans_num','unix_time', 'merch_lat','merch_long','lat','long','zip','city_pop'], axis = 1)\n",
    "test_csv1= test_csv1.drop(['Unnamed: 0', 'trans_date_trans_time','cc_num','merchant', 'first', 'last', 'street','city','state','job','dob','trans_num','unix_time', 'merch_lat','merch_long', 'lat','long','zip','city_pop'], axis = 1)"
   ]
  },
  {
   "cell_type": "code",
   "execution_count": 11,
   "id": "44c5a556",
   "metadata": {},
   "outputs": [],
   "source": [
    "\n",
    "continuous_features = ['amt', 'age', 'hour', 'hourEnc', 'count_1_day', 'count_7_days','count_30_days', 'time_diff']\n",
    "\n",
    "# Determine the number of bins for each feature using Sturges' rule\n",
    "num_bins = {}\n",
    "for feature in continuous_features:\n",
    "    n = train_csv1[feature].shape[0]\n",
    "    num_bins[feature] = int(np.ceil(np.log2(n) + 1))\n",
    "\n",
    "# Perform binning on the continuous-valued features with determined number of bins\n",
    "binned_data = {}\n",
    "binned_data_test = {}\n",
    "for feature in continuous_features:\n",
    "    binning_model = KBinsDiscretizer(n_bins=num_bins[feature], encode='ordinal', strategy='uniform')\n",
    "    binned_data[feature] = binning_model.fit_transform(train_csv1[[feature]])\n",
    "    binned_data_test[feature] = binning_model.transform(test_csv1[[feature]])\n",
    "    \n",
    "\n",
    "# Perform one-hot encoding on the binned data\n",
    "encoder = OneHotEncoder(sparse=False, handle_unknown='ignore')\n",
    "encoded_data = encoder.fit_transform(pd.DataFrame(np.concatenate(list(binned_data.values()), axis=1)))\n",
    "encoded_data_test = encoder.transform(pd.DataFrame(np.concatenate(list(binned_data_test.values()), axis=1)))\n",
    "\n",
    "\n",
    "# Convert the encoded data to a DataFrame\n",
    "encoded_data_df = pd.DataFrame(encoded_data, columns=encoder.get_feature_names_out(list(num_bins.keys())))\n",
    "encoded_data_test_df = pd.DataFrame(encoded_data_test, columns=encoder.get_feature_names_out(list(num_bins.keys())))\n",
    "\n",
    "# Concatenate the encoded data with the original data\n",
    "train_csv1 = pd.concat([train_csv1, encoded_data_df], axis=1)\n",
    "test_csv1 = pd.concat([test_csv1, encoded_data_test_df], axis=1)\n",
    "\n"
   ]
  },
  {
   "cell_type": "code",
   "execution_count": 12,
   "id": "409f11f1",
   "metadata": {},
   "outputs": [
    {
     "data": {
      "text/plain": [
       "\"\\ncontinuous_features = ['amt', 'age', 'hour', 'hourEnc', 'count_1_day', 'count_7_days','count_30_days', 'time_diff']\\n\\n# Determine the number of bins for each feature using Sturges' rule\\nnum_bins = {}\\nfor feature in continuous_features:\\n    n = test_csv1[feature].shape[0]\\n    num_bins[feature] = int(np.ceil(np.log2(n) + 1))\\n\\n# Perform binning on the continuous-valued features with determined number of bins\\nbinned_data = {}\\nfor feature in continuous_features:\\n    binning_model = KBinsDiscretizer(n_bins=num_bins[feature], encode='ordinal', strategy='uniform')\\n    binned_data[feature] = binning_model.fit_transform(test_csv1[[feature]])\\n\\n# Perform one-hot encoding on the binned data\\nencoder = OneHotEncoder(sparse=False, handle_unknown='ignore')\\nencoded_data = encoder.fit_transform(pd.DataFrame(np.concatenate(list(binned_data.values()), axis=1)))\\n\\n# Convert the encoded data to a DataFrame\\nencoded_data_df = pd.DataFrame(encoded_data, columns=encoder.get_feature_names_out(list(num_bins.keys())))\\n\\n# Concatenate the encoded data with the original data\\ntest_csv1 = pd.concat([test_csv1, encoded_data_df], axis=1)\\n\\n\""
      ]
     },
     "execution_count": 12,
     "metadata": {},
     "output_type": "execute_result"
    }
   ],
   "source": [
    "\"\"\"\n",
    "continuous_features = ['amt', 'age', 'hour', 'hourEnc', 'count_1_day', 'count_7_days','count_30_days', 'time_diff']\n",
    "\n",
    "# Determine the number of bins for each feature using Sturges' rule\n",
    "num_bins = {}\n",
    "for feature in continuous_features:\n",
    "    n = test_csv1[feature].shape[0]\n",
    "    num_bins[feature] = int(np.ceil(np.log2(n) + 1))\n",
    "\n",
    "# Perform binning on the continuous-valued features with determined number of bins\n",
    "binned_data = {}\n",
    "for feature in continuous_features:\n",
    "    binning_model = KBinsDiscretizer(n_bins=num_bins[feature], encode='ordinal', strategy='uniform')\n",
    "    binned_data[feature] = binning_model.fit_transform(test_csv1[[feature]])\n",
    "\n",
    "# Perform one-hot encoding on the binned data\n",
    "encoder = OneHotEncoder(sparse=False, handle_unknown='ignore')\n",
    "encoded_data = encoder.fit_transform(pd.DataFrame(np.concatenate(list(binned_data.values()), axis=1)))\n",
    "\n",
    "# Convert the encoded data to a DataFrame\n",
    "encoded_data_df = pd.DataFrame(encoded_data, columns=encoder.get_feature_names_out(list(num_bins.keys())))\n",
    "\n",
    "# Concatenate the encoded data with the original data\n",
    "test_csv1 = pd.concat([test_csv1, encoded_data_df], axis=1)\n",
    "\n",
    "\"\"\""
   ]
  },
  {
   "cell_type": "code",
   "execution_count": 13,
   "id": "3a4ee102",
   "metadata": {},
   "outputs": [],
   "source": [
    "encode_cols = ['category', 'gender']\n",
    "encoder = OneHotEncoder(sparse=False, handle_unknown='ignore')\n",
    "encoded_data = encoder.fit_transform(train_csv1[encode_cols].values)\n",
    "encoded_data_test = encoder.transform(test_csv1[encode_cols].values)\n",
    "# Convert the encoded data to a DataFrame\n",
    "encoded_data_df = pd.DataFrame(encoded_data, columns=encoder.get_feature_names_out(encode_cols))\n",
    "encoded_data_test_df = pd.DataFrame(encoded_data_test, columns=encoder.get_feature_names_out(encode_cols))\n",
    "\n",
    "# Concatenate the encoded data with the original data\n",
    "train_csv1 = pd.concat([train_csv1, encoded_data_df], axis=1)\n",
    "test_csv1 = pd.concat([test_csv1, encoded_data_test_df], axis=1)"
   ]
  },
  {
   "cell_type": "code",
   "execution_count": 14,
   "id": "628a29ea",
   "metadata": {},
   "outputs": [
    {
     "data": {
      "text/plain": [
       "\"encode_cols = ['category', 'gender']\\nencoder = OneHotEncoder(sparse=False, handle_unknown='ignore')\\nencoded_data = encoder.fit_transform(test_csv1[encode_cols].values)\\n\\n# Convert the encoded data to a DataFrame\\nencoded_data_df = pd.DataFrame(encoded_data, columns=encoder.get_feature_names_out(encode_cols))\\n\\n# Concatenate the encoded data with the original data\\ntest_csv1 = pd.concat([test_csv1, encoded_data_df], axis=1)\""
      ]
     },
     "execution_count": 14,
     "metadata": {},
     "output_type": "execute_result"
    }
   ],
   "source": [
    "\"\"\"encode_cols = ['category', 'gender']\n",
    "encoder = OneHotEncoder(sparse=False, handle_unknown='ignore')\n",
    "encoded_data = encoder.fit_transform(test_csv1[encode_cols].values)\n",
    "\n",
    "# Convert the encoded data to a DataFrame\n",
    "encoded_data_df = pd.DataFrame(encoded_data, columns=encoder.get_feature_names_out(encode_cols))\n",
    "\n",
    "# Concatenate the encoded data with the original data\n",
    "test_csv1 = pd.concat([test_csv1, encoded_data_df], axis=1)\"\"\""
   ]
  },
  {
   "cell_type": "code",
   "execution_count": 15,
   "id": "3a9b238b",
   "metadata": {},
   "outputs": [
    {
     "data": {
      "text/plain": [
       "(        category     amt gender  is_fraud  hour  hourEnc  count_1_day  \\\n",
       " 0       misc_net    4.97      F         0     0        1          0.0   \n",
       " 1    grocery_pos  107.23      F         0     0        1          0.0   \n",
       " 2  entertainment  220.11      M         0     0        1          0.0   \n",
       " 3  gas_transport   45.00      M         0     0        1          0.0   \n",
       " 4       misc_pos   41.96      M         0     0        1          0.0   \n",
       " \n",
       "    count_7_days  count_30_days  time_diff  ...  category_home  \\\n",
       " 0           0.0            0.0        0.0  ...            0.0   \n",
       " 1           0.0            0.0        0.0  ...            0.0   \n",
       " 2           0.0            0.0        0.0  ...            0.0   \n",
       " 3           0.0            0.0        0.0  ...            0.0   \n",
       " 4           0.0            0.0        0.0  ...            0.0   \n",
       " \n",
       "    category_kids_pets  category_misc_net  category_misc_pos  \\\n",
       " 0                 0.0                1.0                0.0   \n",
       " 1                 0.0                0.0                0.0   \n",
       " 2                 0.0                0.0                0.0   \n",
       " 3                 0.0                0.0                0.0   \n",
       " 4                 0.0                0.0                1.0   \n",
       " \n",
       "    category_personal_care  category_shopping_net  category_shopping_pos  \\\n",
       " 0                     0.0                    0.0                    0.0   \n",
       " 1                     0.0                    0.0                    0.0   \n",
       " 2                     0.0                    0.0                    0.0   \n",
       " 3                     0.0                    0.0                    0.0   \n",
       " 4                     0.0                    0.0                    0.0   \n",
       " \n",
       "    category_travel  gender_F  gender_M  \n",
       " 0              0.0       1.0       0.0  \n",
       " 1              0.0       1.0       0.0  \n",
       " 2              0.0       0.0       1.0  \n",
       " 3              0.0       0.0       1.0  \n",
       " 4              0.0       0.0       1.0  \n",
       " \n",
       " [5 rows x 177 columns],\n",
       "          category    amt gender  is_fraud  hour  hourEnc  count_1_day  \\\n",
       " 0   personal_care   2.86      M         0    12        0          0.0   \n",
       " 1   personal_care  29.84      F         0    12        0          0.0   \n",
       " 2  health_fitness  41.28      F         0    12        0          0.0   \n",
       " 3        misc_pos  60.05      M         0    12        0          0.0   \n",
       " 4          travel   3.19      M         0    12        0          0.0   \n",
       " \n",
       "    count_7_days  count_30_days  time_diff  ...  category_home  \\\n",
       " 0           0.0            0.0        0.0  ...            0.0   \n",
       " 1           0.0            0.0        0.0  ...            0.0   \n",
       " 2           0.0            0.0        0.0  ...            0.0   \n",
       " 3           0.0            0.0        0.0  ...            0.0   \n",
       " 4           0.0            0.0        0.0  ...            0.0   \n",
       " \n",
       "    category_kids_pets  category_misc_net  category_misc_pos  \\\n",
       " 0                 0.0                0.0                0.0   \n",
       " 1                 0.0                0.0                0.0   \n",
       " 2                 0.0                0.0                0.0   \n",
       " 3                 0.0                0.0                1.0   \n",
       " 4                 0.0                0.0                0.0   \n",
       " \n",
       "    category_personal_care  category_shopping_net  category_shopping_pos  \\\n",
       " 0                     1.0                    0.0                    0.0   \n",
       " 1                     1.0                    0.0                    0.0   \n",
       " 2                     0.0                    0.0                    0.0   \n",
       " 3                     0.0                    0.0                    0.0   \n",
       " 4                     0.0                    0.0                    0.0   \n",
       " \n",
       "    category_travel  gender_F  gender_M  \n",
       " 0              0.0       0.0       1.0  \n",
       " 1              0.0       1.0       0.0  \n",
       " 2              0.0       1.0       0.0  \n",
       " 3              0.0       0.0       1.0  \n",
       " 4              1.0       0.0       1.0  \n",
       " \n",
       " [5 rows x 177 columns])"
      ]
     },
     "execution_count": 15,
     "metadata": {},
     "output_type": "execute_result"
    }
   ],
   "source": [
    "train_csv1.head(5), test_csv1.head(5)"
   ]
  },
  {
   "cell_type": "code",
   "execution_count": 16,
   "id": "181b369a",
   "metadata": {},
   "outputs": [],
   "source": [
    "train_csv1 = train_csv1.drop(['category','amt','age','gender','hour','hourEnc','count_1_day','count_7_days','count_30_days','time_diff'], axis = 1)\n",
    "test_csv1 = test_csv1.drop(['category','amt','age','gender','hour','hourEnc','count_1_day','count_7_days','count_30_days','time_diff'], axis = 1)\n"
   ]
  },
  {
   "cell_type": "code",
   "execution_count": 17,
   "id": "e2478cf6",
   "metadata": {},
   "outputs": [
    {
     "data": {
      "text/plain": [
       "is_fraud                 2\n",
       "amt_0.0                  2\n",
       "amt_1.0                  2\n",
       "amt_2.0                  2\n",
       "amt_3.0                  2\n",
       "                        ..\n",
       "category_shopping_net    2\n",
       "category_shopping_pos    2\n",
       "category_travel          2\n",
       "gender_F                 2\n",
       "gender_M                 2\n",
       "Length: 167, dtype: int64"
      ]
     },
     "execution_count": 17,
     "metadata": {},
     "output_type": "execute_result"
    }
   ],
   "source": [
    "train_csv1.nunique()\n",
    "#train_csv1['age'].min()"
   ]
  },
  {
   "cell_type": "code",
   "execution_count": 18,
   "id": "8eafb44f",
   "metadata": {},
   "outputs": [],
   "source": [
    "#splitting features and target variable\n",
    "x_train_original = train_csv1.drop(['is_fraud'], axis = 1).astype(np.float32)\n",
    "y_train = train_csv1['is_fraud'].astype(np.float32)\n",
    "x_train = x_train_original.copy() #making a copy and keeping the original as it is\n",
    "\n",
    "x_test = test_csv1.drop(['is_fraud'], axis = 1).astype(np.float32)\n",
    "y_test = test_csv1['is_fraud'].astype(np.float32)\n",
    "#train_csv1.value_counts() #counting number of fraud(1) and normal (0) transactions"
   ]
  },
  {
   "cell_type": "code",
   "execution_count": 19,
   "id": "f0ab274c",
   "metadata": {},
   "outputs": [],
   "source": [
    "x_train = x_train[y_train==0].astype(np.float32) #train with only majority class(considering only class '0')"
   ]
  },
  {
   "cell_type": "code",
   "execution_count": 20,
   "id": "51d3b4b2",
   "metadata": {},
   "outputs": [
    {
     "name": "stdout",
     "output_type": "stream",
     "text": [
      "Training OneClassSVM time in minutes: 161.56001044511794\n"
     ]
    }
   ],
   "source": [
    "#training the model with default parameters and nu =0.006(0.6% of anomolous data)\n",
    "start_time = time.time()\n",
    "one_class_svm = OneClassSVM(nu=0.006, kernel = 'rbf', gamma = 'auto').fit(x_train)\n",
    "end_time = time.time()\n",
    "print(\"Training OneClassSVM time in minutes:\", (end_time-start_time)/60)"
   ]
  },
  {
   "cell_type": "code",
   "execution_count": 21,
   "id": "c7cb84d1",
   "metadata": {},
   "outputs": [
    {
     "data": {
      "text/plain": [
       "['oneclasssvm_model1.pkl']"
      ]
     },
     "execution_count": 21,
     "metadata": {},
     "output_type": "execute_result"
    }
   ],
   "source": [
    "joblib.dump(one_class_svm, 'oneclasssvm_model1.pkl') #saving the model"
   ]
  },
  {
   "cell_type": "code",
   "execution_count": 22,
   "id": "343332af",
   "metadata": {},
   "outputs": [],
   "source": [
    "#one_class_svm = joblib.load('oneclasssvm_model.pkl') #loading the model"
   ]
  },
  {
   "cell_type": "code",
   "execution_count": 23,
   "id": "9d44b221",
   "metadata": {},
   "outputs": [
    {
     "name": "stdout",
     "output_type": "stream",
     "text": [
      "[[547112   6462]\n",
      " [  2115     30]]\n",
      "              precision    recall  f1-score   support\n",
      "\n",
      "         0.0       1.00      0.99      0.99    553574\n",
      "         1.0       0.00      0.01      0.01      2145\n",
      "\n",
      "    accuracy                           0.98    555719\n",
      "   macro avg       0.50      0.50      0.50    555719\n",
      "weighted avg       0.99      0.98      0.99    555719\n",
      "\n",
      "F2_Score 0.009952229299363057\n"
     ]
    }
   ],
   "source": [
    "\n",
    "prediction = one_class_svm.predict(x_test)\n",
    "\n",
    "prediction = [1 if i==-1 else 0 for i in prediction]\n",
    "# Check the model performance\n",
    "print(confusion_matrix(y_test, prediction))\n",
    "print(classification_report(y_test, prediction))\n",
    "print(\"F2_Score\", fbeta_score(y_test, prediction, beta=2))"
   ]
  },
  {
   "cell_type": "code",
   "execution_count": 24,
   "id": "a5bb92ea",
   "metadata": {},
   "outputs": [
    {
     "data": {
      "image/png": "[encoded data removed]",
      "text/plain": [
       "<Figure size 432x288 with 1 Axes>"
      ]
     },
     "metadata": {
      "needs_background": "light"
     },
     "output_type": "display_data"
    }
   ],
   "source": [
    "cm = confusion_matrix(y_test, prediction)\n",
    "plt.figure(figsize=(6, 4))\n",
    "sns.heatmap(cm, annot=True, cmap=\"YlGnBu\", fmt=\"d\", cbar=False)\n",
    "plt.title(\"Confusion Matrix\")\n",
    "plt.xlabel(\"Predicted Labels\")\n",
    "plt.ylabel(\"True Labels\")\n",
    "plt.show()"
   ]
  },
  {
   "cell_type": "code",
   "execution_count": 25,
   "id": "ea4c0b0e",
   "metadata": {},
   "outputs": [
    {
     "data": {
      "image/png": "[encoded data removed]",
      "text/plain": [
       "<Figure size 576x288 with 1 Axes>"
      ]
     },
     "metadata": {
      "needs_background": "light"
     },
     "output_type": "display_data"
    }
   ],
   "source": [
    "report = classification_report(y_test, prediction, output_dict=True)\n",
    "report_df = pd.DataFrame(report).transpose()\n",
    "\n",
    "# Remove the support column\n",
    "report_df.drop(\"support\", axis=1, inplace=True)\n",
    "\n",
    "# Convert the classification report DataFrame to numeric values\n",
    "report_df = report_df.apply(pd.to_numeric)\n",
    "\n",
    "# Create a heatmap of the classification report\n",
    "plt.figure(figsize=(8, 4))\n",
    "sns.heatmap(report_df, annot=True, cmap='YlGnBu', fmt=\".2f\", cbar=False)\n",
    "plt.title(\"Classification Report Heatmap\")\n",
    "plt.show()"
   ]
  },
  {
   "cell_type": "code",
   "execution_count": 26,
   "id": "a3fd4225",
   "metadata": {},
   "outputs": [
    {
     "data": {
      "text/plain": [
       "'score = one_class_svm.score_samples(X_test_scaled)\\n\\nscore_threshold = np.percentile(score, 1.5)\\nprint(f\\'The customized score threshold for 1.5% of outliers is {score_threshold:.2f}\\')\\n\\ncustomized_prediction = [1 if i < score_threshold else 0 for i in score]\\nprint(confusion_matrix(y_test, customized_prediction))\\nprint(classification_report(y_test, customized_prediction))\\nprint(\"F2_Score\", fbeta_score(y_test, customized_prediction, beta=2))'"
      ]
     },
     "execution_count": 26,
     "metadata": {},
     "output_type": "execute_result"
    }
   ],
   "source": [
    "#predicting with custom threshold. when we use predict(), it takes default threshold value and considers below threshold value as anomaly\n",
    "#so, we use a score sample to set a customized thershold(need to tune it in order to have less false positives and less false negatives)\n",
    "#tried 1%, 1.5%, 2%, 3% \n",
    "\"\"\"score = one_class_svm.score_samples(X_test_scaled)\n",
    "\n",
    "score_threshold = np.percentile(score, 1.5)\n",
    "print(f'The customized score threshold for 1.5% of outliers is {score_threshold:.2f}')\n",
    "\n",
    "customized_prediction = [1 if i < score_threshold else 0 for i in score]\n",
    "print(confusion_matrix(y_test, customized_prediction))\n",
    "print(classification_report(y_test, customized_prediction))\n",
    "print(\"F2_Score\", fbeta_score(y_test, customized_prediction, beta=2))\"\"\""
   ]
  },
  {
   "cell_type": "code",
   "execution_count": 27,
   "id": "1de0605b",
   "metadata": {},
   "outputs": [],
   "source": [
    "frequent_itemsets_original = apriori(x_train_original, min_support=0.1, use_colnames=True)\n",
    "rules_original = association_rules(frequent_itemsets_original, metric=\"confidence\", min_threshold=0.7)\n",
    "\n",
    "\"\"\"#Evaluating the association rules\n",
    "rules_original['support'] = rules_original['support']\n",
    "rules_original['confidence'] = rules_original['confidence']\n",
    "rules_original['lift'] = rules_original['lift']\n",
    "rules_original['conviction'] = rules_original['conviction']\n",
    "rules_original['leverage'] = rules_original['leverage']\n",
    "rules_original['interest'] = rules_original['leverage'] / rules_original['support']\n",
    "\n",
    "print(\"original training data's rule mining metrics:\")\n",
    "print(rules_original[['antecedents', 'consequents', 'support', 'confidence', 'lift', 'conviction', 'leverage', 'interest']])\"\"\"\n",
    "\n",
    "rules_original.to_csv('rules_original.csv', index=False)"
   ]
  },
  {
   "cell_type": "code",
   "execution_count": 28,
   "id": "5245dd67",
   "metadata": {},
   "outputs": [
    {
     "ename": "KeyError",
     "evalue": "False",
     "output_type": "error",
     "traceback": [
      "\u001b[1;31m---------------------------------------------------------------------------\u001b[0m",
      "\u001b[1;31mKeyError\u001b[0m                                  Traceback (most recent call last)",
      "\u001b[1;32m~\\anaconda3\\lib\\site-packages\\pandas\\core\\indexes\\base.py\u001b[0m in \u001b[0;36mget_loc\u001b[1;34m(self, key, method, tolerance)\u001b[0m\n\u001b[0;32m   3360\u001b[0m             \u001b[1;32mtry\u001b[0m\u001b[1;33m:\u001b[0m\u001b[1;33m\u001b[0m\u001b[1;33m\u001b[0m\u001b[0m\n\u001b[1;32m-> 3361\u001b[1;33m                 \u001b[1;32mreturn\u001b[0m \u001b[0mself\u001b[0m\u001b[1;33m.\u001b[0m\u001b[0m_engine\u001b[0m\u001b[1;33m.\u001b[0m\u001b[0mget_loc\u001b[0m\u001b[1;33m(\u001b[0m\u001b[0mcasted_key\u001b[0m\u001b[1;33m)\u001b[0m\u001b[1;33m\u001b[0m\u001b[1;33m\u001b[0m\u001b[0m\n\u001b[0m\u001b[0;32m   3362\u001b[0m             \u001b[1;32mexcept\u001b[0m \u001b[0mKeyError\u001b[0m \u001b[1;32mas\u001b[0m \u001b[0merr\u001b[0m\u001b[1;33m:\u001b[0m\u001b[1;33m\u001b[0m\u001b[1;33m\u001b[0m\u001b[0m\n",
      "\u001b[1;32m~\\anaconda3\\lib\\site-packages\\pandas\\_libs\\index.pyx\u001b[0m in \u001b[0;36mpandas._libs.index.IndexEngine.get_loc\u001b[1;34m()\u001b[0m\n",
      "\u001b[1;32m~\\anaconda3\\lib\\site-packages\\pandas\\_libs\\index.pyx\u001b[0m in \u001b[0;36mpandas._libs.index.IndexEngine.get_loc\u001b[1;34m()\u001b[0m\n",
      "\u001b[1;32mpandas\\_libs\\hashtable_class_helper.pxi\u001b[0m in \u001b[0;36mpandas._libs.hashtable.PyObjectHashTable.get_item\u001b[1;34m()\u001b[0m\n",
      "\u001b[1;32mpandas\\_libs\\hashtable_class_helper.pxi\u001b[0m in \u001b[0;36mpandas._libs.hashtable.PyObjectHashTable.get_item\u001b[1;34m()\u001b[0m\n",
      "\u001b[1;31mKeyError\u001b[0m: False",
      "\nThe above exception was the direct cause of the following exception:\n",
      "\u001b[1;31mKeyError\u001b[0m                                  Traceback (most recent call last)",
      "\u001b[1;32m~\\AppData\\Local\\Temp/ipykernel_6600/750123415.py\u001b[0m in \u001b[0;36m<module>\u001b[1;34m\u001b[0m\n\u001b[1;32m----> 1\u001b[1;33m \u001b[0mnormal_instances\u001b[0m \u001b[1;33m=\u001b[0m \u001b[0mx_test\u001b[0m\u001b[1;33m[\u001b[0m\u001b[0mprediction\u001b[0m \u001b[1;33m==\u001b[0m \u001b[1;36m0\u001b[0m\u001b[1;33m]\u001b[0m\u001b[1;33m\u001b[0m\u001b[1;33m\u001b[0m\u001b[0m\n\u001b[0m\u001b[0;32m      2\u001b[0m \u001b[0mfrequent_itemsets_normalpred\u001b[0m \u001b[1;33m=\u001b[0m \u001b[0mapriori\u001b[0m\u001b[1;33m(\u001b[0m\u001b[0mnormal_instances\u001b[0m\u001b[1;33m,\u001b[0m \u001b[0mmin_support\u001b[0m\u001b[1;33m=\u001b[0m\u001b[1;36m0.1\u001b[0m\u001b[1;33m,\u001b[0m \u001b[0muse_colnames\u001b[0m\u001b[1;33m=\u001b[0m\u001b[1;32mTrue\u001b[0m\u001b[1;33m)\u001b[0m\u001b[1;33m\u001b[0m\u001b[1;33m\u001b[0m\u001b[0m\n\u001b[0;32m      3\u001b[0m \u001b[0mrules_normalpred\u001b[0m \u001b[1;33m=\u001b[0m \u001b[0massociation_rules\u001b[0m\u001b[1;33m(\u001b[0m\u001b[0mfrequent_itemsets_normalpred\u001b[0m\u001b[1;33m,\u001b[0m \u001b[0mmetric\u001b[0m\u001b[1;33m=\u001b[0m\u001b[1;34m\"confidence\"\u001b[0m\u001b[1;33m,\u001b[0m \u001b[0mmin_threshold\u001b[0m\u001b[1;33m=\u001b[0m\u001b[1;36m0.7\u001b[0m\u001b[1;33m)\u001b[0m\u001b[1;33m\u001b[0m\u001b[1;33m\u001b[0m\u001b[0m\n\u001b[0;32m      4\u001b[0m \u001b[1;33m\u001b[0m\u001b[0m\n\u001b[0;32m      5\u001b[0m \"\"\"#Evaluating the association rules\n",
      "\u001b[1;32m~\\anaconda3\\lib\\site-packages\\pandas\\core\\frame.py\u001b[0m in \u001b[0;36m__getitem__\u001b[1;34m(self, key)\u001b[0m\n\u001b[0;32m   3456\u001b[0m             \u001b[1;32mif\u001b[0m \u001b[0mself\u001b[0m\u001b[1;33m.\u001b[0m\u001b[0mcolumns\u001b[0m\u001b[1;33m.\u001b[0m\u001b[0mnlevels\u001b[0m \u001b[1;33m>\u001b[0m \u001b[1;36m1\u001b[0m\u001b[1;33m:\u001b[0m\u001b[1;33m\u001b[0m\u001b[1;33m\u001b[0m\u001b[0m\n\u001b[0;32m   3457\u001b[0m                 \u001b[1;32mreturn\u001b[0m \u001b[0mself\u001b[0m\u001b[1;33m.\u001b[0m\u001b[0m_getitem_multilevel\u001b[0m\u001b[1;33m(\u001b[0m\u001b[0mkey\u001b[0m\u001b[1;33m)\u001b[0m\u001b[1;33m\u001b[0m\u001b[1;33m\u001b[0m\u001b[0m\n\u001b[1;32m-> 3458\u001b[1;33m             \u001b[0mindexer\u001b[0m \u001b[1;33m=\u001b[0m \u001b[0mself\u001b[0m\u001b[1;33m.\u001b[0m\u001b[0mcolumns\u001b[0m\u001b[1;33m.\u001b[0m\u001b[0mget_loc\u001b[0m\u001b[1;33m(\u001b[0m\u001b[0mkey\u001b[0m\u001b[1;33m)\u001b[0m\u001b[1;33m\u001b[0m\u001b[1;33m\u001b[0m\u001b[0m\n\u001b[0m\u001b[0;32m   3459\u001b[0m             \u001b[1;32mif\u001b[0m \u001b[0mis_integer\u001b[0m\u001b[1;33m(\u001b[0m\u001b[0mindexer\u001b[0m\u001b[1;33m)\u001b[0m\u001b[1;33m:\u001b[0m\u001b[1;33m\u001b[0m\u001b[1;33m\u001b[0m\u001b[0m\n\u001b[0;32m   3460\u001b[0m                 \u001b[0mindexer\u001b[0m \u001b[1;33m=\u001b[0m \u001b[1;33m[\u001b[0m\u001b[0mindexer\u001b[0m\u001b[1;33m]\u001b[0m\u001b[1;33m\u001b[0m\u001b[1;33m\u001b[0m\u001b[0m\n",
      "\u001b[1;32m~\\anaconda3\\lib\\site-packages\\pandas\\core\\indexes\\base.py\u001b[0m in \u001b[0;36mget_loc\u001b[1;34m(self, key, method, tolerance)\u001b[0m\n\u001b[0;32m   3361\u001b[0m                 \u001b[1;32mreturn\u001b[0m \u001b[0mself\u001b[0m\u001b[1;33m.\u001b[0m\u001b[0m_engine\u001b[0m\u001b[1;33m.\u001b[0m\u001b[0mget_loc\u001b[0m\u001b[1;33m(\u001b[0m\u001b[0mcasted_key\u001b[0m\u001b[1;33m)\u001b[0m\u001b[1;33m\u001b[0m\u001b[1;33m\u001b[0m\u001b[0m\n\u001b[0;32m   3362\u001b[0m             \u001b[1;32mexcept\u001b[0m \u001b[0mKeyError\u001b[0m \u001b[1;32mas\u001b[0m \u001b[0merr\u001b[0m\u001b[1;33m:\u001b[0m\u001b[1;33m\u001b[0m\u001b[1;33m\u001b[0m\u001b[0m\n\u001b[1;32m-> 3363\u001b[1;33m                 \u001b[1;32mraise\u001b[0m \u001b[0mKeyError\u001b[0m\u001b[1;33m(\u001b[0m\u001b[0mkey\u001b[0m\u001b[1;33m)\u001b[0m \u001b[1;32mfrom\u001b[0m \u001b[0merr\u001b[0m\u001b[1;33m\u001b[0m\u001b[1;33m\u001b[0m\u001b[0m\n\u001b[0m\u001b[0;32m   3364\u001b[0m \u001b[1;33m\u001b[0m\u001b[0m\n\u001b[0;32m   3365\u001b[0m         \u001b[1;32mif\u001b[0m \u001b[0mis_scalar\u001b[0m\u001b[1;33m(\u001b[0m\u001b[0mkey\u001b[0m\u001b[1;33m)\u001b[0m \u001b[1;32mand\u001b[0m \u001b[0misna\u001b[0m\u001b[1;33m(\u001b[0m\u001b[0mkey\u001b[0m\u001b[1;33m)\u001b[0m \u001b[1;32mand\u001b[0m \u001b[1;32mnot\u001b[0m \u001b[0mself\u001b[0m\u001b[1;33m.\u001b[0m\u001b[0mhasnans\u001b[0m\u001b[1;33m:\u001b[0m\u001b[1;33m\u001b[0m\u001b[1;33m\u001b[0m\u001b[0m\n",
      "\u001b[1;31mKeyError\u001b[0m: False"
     ]
    }
   ],
   "source": [
    "normal_instances = x_test[prediction == 0]\n",
    "frequent_itemsets_normalpred = apriori(normal_instances, min_support=0.1, use_colnames=True)\n",
    "rules_normalpred = association_rules(frequent_itemsets_normalpred, metric=\"confidence\", min_threshold=0.7)\n",
    "\n",
    "\"\"\"#Evaluating the association rules\n",
    "rules_normalpred['support'] = rules_normalpred['support']\n",
    "rules_normalpred['confidence'] = rules_normalpred['confidence']\n",
    "rules_normalpred['lift'] = rules_normalpred['lift']\n",
    "rules_normalpred['conviction'] = rules_normalpred['conviction']\n",
    "rules_normalpred['leverage'] = rules_normalpred['leverage']\n",
    "rules_normalpred['interest'] = rules_normalpred['leverage'] / rules_normalpred['support']\n",
    "\n",
    "print(\"original training data's rule mining metrics:\")\n",
    "print(rules_normalpred[['antecedents', 'consequents', 'support', 'confidence', 'lift', 'conviction', 'leverage', 'interest']])\"\"\"\n",
    "\n",
    "rules_normalpred.to_csv('rules_normalpred.csv', index=False)"
   ]
  },
  {
   "cell_type": "code",
   "execution_count": null,
   "id": "1693a443",
   "metadata": {},
   "outputs": [],
   "source": [
    "anomalous_instances = x_test[prediction == 1]\n",
    "frequent_itemsets_anomalouspred = apriori(anomalous_instances, min_support=0.1, use_colnames=True)\n",
    "rules_anomalouspred = association_rules(frequent_itemsets_anomalouspred, metric=\"confidence\", min_threshold=0.7)\n",
    "\n",
    "\"\"\"#Evaluating the association rules\n",
    "rules_anomalouspred['support'] = rules_anomalouspred['support']\n",
    "rules_anomalouspred['confidence'] = rules_anomalouspred['confidence']\n",
    "rules_anomalouspred['lift'] = rules_anomalouspred['lift']\n",
    "rules_anomalouspred['conviction'] = rules_anomalouspred['conviction']\n",
    "rules_anomalouspred['leverage'] = rules_anomalouspred['leverage']\n",
    "rules_anomalouspred['interest'] = rules_anomalouspred['leverage'] / rules_anomalouspred['support']\n",
    "\n",
    "print(\"original training data's rule mining metrics:\")\n",
    "print(rules_anomalouspred[['antecedents', 'consequents', 'support', 'confidence', 'lift', 'conviction', 'leverage', 'interest']])\"\"\"\n",
    "\n",
    "rules_anomalouspred.to_csv('rules_anomalouspred.csv', index=False)"
   ]
  },
  {
   "cell_type": "code",
   "execution_count": null,
   "id": "c495cd24",
   "metadata": {},
   "outputs": [],
   "source": []
  }
 ],
 "metadata": {
  "kernelspec": {
   "display_name": "Python 3 (ipykernel)",
   "language": "python",
   "name": "python3"
  },
  "language_info": {
   "codemirror_mode": {
    "name": "ipython",
    "version": 3
   },
   "file_extension": ".py",
   "mimetype": "text/x-python",
   "name": "python",
   "nbconvert_exporter": "python",
   "pygments_lexer": "ipython3",
   "version": "3.9.7"
  }
 },
 "nbformat": 4,
 "nbformat_minor": 5
}
